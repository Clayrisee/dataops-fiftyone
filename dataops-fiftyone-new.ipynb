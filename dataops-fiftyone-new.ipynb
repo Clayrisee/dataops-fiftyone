{
 "cells": [
  {
   "cell_type": "markdown",
   "id": "b1387595-8f98-4046-9478-c33fa2ea0b1d",
   "metadata": {},
   "source": [
    "# Load Dataset"
   ]
  },
  {
   "cell_type": "code",
   "execution_count": 1,
   "id": "97468ada-6508-41e3-9c3c-b54ea8e936cf",
   "metadata": {
    "tags": []
   },
   "outputs": [],
   "source": [
    "# import fiftyone as fo\n",
    "# fo.delete_dataset(\"example_demo_dataset\")"
   ]
  },
  {
   "cell_type": "code",
   "execution_count": 2,
   "id": "136f8552-94af-4429-a277-c0576d56822d",
   "metadata": {
    "tags": []
   },
   "outputs": [],
   "source": [
    "import fiftyone.core.dataset as focd\n",
    "import fiftyone as fo\n",
    "\n",
    "def create_fo_dataset(source_directory, name, dataset_type=fo.types.ImageDirectory):\n",
    "    dataset = fo.load_dataset(name) if focd.dataset_exists(name)\\\n",
    "        else fo.Dataset.from_dir(name=name, dataset_dir=source_directory, dataset_type=dataset_type)\n",
    "    return dataset"
   ]
  },
  {
   "cell_type": "code",
   "execution_count": 3,
   "id": "8d8e29b3-b502-4c98-91ab-db855a7a16f4",
   "metadata": {
    "tags": []
   },
   "outputs": [
    {
     "name": "stdout",
     "output_type": "stream",
     "text": []
    },
    {
     "name": "stdout",
     "output_type": "stream",
     "text": [
      " 100% |███████████████████| 54/54 [41.7ms elapsed, 0s remaining, 1.3K samples/s]   \n"
     ]
    }
   ],
   "source": [
    "DATASET_NAME = \"example_demo_dataset\"\n",
    "DATASET_DIR = \"raw_dataset\"\n",
    "fo_dataset = create_fo_dataset(DATASET_DIR, DATASET_NAME)"
   ]
  },
  {
   "cell_type": "code",
   "execution_count": 4,
   "id": "8930b78e-be26-4adf-8c61-8cfc68ecc2b2",
   "metadata": {
    "tags": []
   },
   "outputs": [
    {
     "data": {
      "text/plain": [
       "Name:        example_demo_dataset\n",
       "Media type:  image\n",
       "Num samples: 54\n",
       "Persistent:  False\n",
       "Tags:        []\n",
       "Sample fields:\n",
       "    id:       fiftyone.core.fields.ObjectIdField\n",
       "    filepath: fiftyone.core.fields.StringField\n",
       "    tags:     fiftyone.core.fields.ListField(fiftyone.core.fields.StringField)\n",
       "    metadata: fiftyone.core.fields.EmbeddedDocumentField(fiftyone.core.metadata.ImageMetadata)"
      ]
     },
     "execution_count": 4,
     "metadata": {},
     "output_type": "execute_result"
    }
   ],
   "source": [
    "fo_dataset"
   ]
  },
  {
   "cell_type": "markdown",
   "id": "4855e852-49e1-4d64-8f96-fe03f85df165",
   "metadata": {},
   "source": [
    "# Run FiftyOne Session"
   ]
  },
  {
   "cell_type": "code",
   "execution_count": 5,
   "id": "22435dda-2a48-490d-a7c0-855d851833be",
   "metadata": {
    "tags": []
   },
   "outputs": [
    {
     "data": {
      "text/html": [
       "\n",
       "        <iframe\n",
       "            width=\"100%\"\n",
       "            height=\"800\"\n",
       "            src=\"http://localhost:5151/?notebook=True&subscription=b2f03c75-8f88-41dd-87f7-6729237bbcda\"\n",
       "            frameborder=\"0\"\n",
       "            allowfullscreen\n",
       "            \n",
       "        ></iframe>\n",
       "        "
      ],
      "text/plain": [
       "<IPython.lib.display.IFrame at 0x7f86b5524a00>"
      ]
     },
     "metadata": {},
     "output_type": "display_data"
    }
   ],
   "source": [
    "import fiftyone as fo \n",
    "session = fo.launch_app(fo_dataset, address=\"localhost\")"
   ]
  },
  {
   "cell_type": "code",
   "execution_count": 6,
   "id": "25f9c918-171c-4a8a-9c34-1071333b59ca",
   "metadata": {
    "tags": []
   },
   "outputs": [
    {
     "data": {
      "text/plain": [
       "Dataset:          example_demo_dataset\n",
       "Media type:       image\n",
       "Num samples:      54\n",
       "Selected samples: 0\n",
       "Selected labels:  0\n",
       "Session URL:      http://localhost:5151/"
      ]
     },
     "execution_count": 6,
     "metadata": {},
     "output_type": "execute_result"
    }
   ],
   "source": [
    "session"
   ]
  },
  {
   "cell_type": "markdown",
   "id": "8fb521a2-67cf-457b-a297-8ec4e12b0cb6",
   "metadata": {},
   "source": [
    "# Compute Image MetaData"
   ]
  },
  {
   "cell_type": "code",
   "execution_count": 7,
   "id": "ad59d82c-78b2-433c-a6d8-d218aa437b0f",
   "metadata": {
    "tags": []
   },
   "outputs": [
    {
     "data": {
      "text/plain": [
       "<Sample: {\n",
       "    'id': '653ad4a7a6d8e8c7e4844ec3',\n",
       "    'media_type': 'image',\n",
       "    'filepath': '/workspaces/dataops-fiftyone/raw_dataset/20230602_191106.jpg',\n",
       "    'tags': [],\n",
       "    'metadata': None,\n",
       "}>"
      ]
     },
     "execution_count": 7,
     "metadata": {},
     "output_type": "execute_result"
    }
   ],
   "source": [
    "fo_dataset.first()"
   ]
  },
  {
   "cell_type": "code",
   "execution_count": 8,
   "id": "b4cebb18-8be2-4b74-bdf0-da4b0f1c72c7",
   "metadata": {
    "tags": []
   },
   "outputs": [
    {
     "name": "stdout",
     "output_type": "stream",
     "text": [
      "Computing metadata...\n",
      " 100% |███████████████████| 54/54 [292.7ms elapsed, 0s remaining, 184.5 samples/s]     \n"
     ]
    }
   ],
   "source": [
    "# Compute metadata\n",
    "fo_dataset.compute_metadata()"
   ]
  },
  {
   "cell_type": "code",
   "execution_count": 9,
   "id": "57e94e3d-25fa-48b1-bab1-4f9214229896",
   "metadata": {
    "tags": []
   },
   "outputs": [],
   "source": [
    "import fiftyone.core.utils as fou\n",
    "\n",
    "# Iterate through sample to add metadata information\n",
    "for sample in fo_dataset:\n",
    "    # Compute filehash for remove duplicate filename\n",
    "    sample[\"filehash\"] = fou.compute_filehash(sample.filepath)\n",
    "    sample[\"width\"] = sample.metadata.width\n",
    "    sample[\"height\"] = sample.metadata.height\n",
    "    sample[\"size_kb\"] = sample.metadata.size_bytes\n",
    "    sample.save()"
   ]
  },
  {
   "cell_type": "code",
   "execution_count": 10,
   "id": "e7bb4a52-a7ed-4cb4-991a-d3152cc76c79",
   "metadata": {
    "tags": []
   },
   "outputs": [
    {
     "data": {
      "text/plain": [
       "<Sample: {\n",
       "    'id': '653ad4a7a6d8e8c7e4844ec3',\n",
       "    'media_type': 'image',\n",
       "    'filepath': '/workspaces/dataops-fiftyone/raw_dataset/20230602_191106.jpg',\n",
       "    'tags': [],\n",
       "    'metadata': <ImageMetadata: {\n",
       "        'size_bytes': 1920904,\n",
       "        'mime_type': 'image/jpeg',\n",
       "        'width': 2992,\n",
       "        'height': 2992,\n",
       "        'num_channels': 3,\n",
       "    }>,\n",
       "    'filehash': -8294542046651660730,\n",
       "    'width': 2992,\n",
       "    'height': 2992,\n",
       "    'size_kb': 1920904,\n",
       "}>"
      ]
     },
     "execution_count": 10,
     "metadata": {},
     "output_type": "execute_result"
    }
   ],
   "source": [
    "# Check first sample\n",
    "fo_dataset.first()"
   ]
  },
  {
   "cell_type": "code",
   "execution_count": 11,
   "id": "8c808537-5ee1-4d72-9830-8d596b29c429",
   "metadata": {
    "tags": []
   },
   "outputs": [
    {
     "data": {
      "text/plain": []
     },
     "metadata": {},
     "output_type": "display_data"
    },
    {
     "data": {
      "text/plain": []
     },
     "metadata": {},
     "output_type": "display_data"
    },
    {
     "data": {
      "application/vnd.jupyter.widget-view+json": {
       "model_id": "bb87d4d0641945cb9c7cea65a6d2afad",
       "version_major": 2,
       "version_minor": 0
      },
      "text/plain": [
       "FigureWidget({\n",
       "    'data': [{'customdata': array([[0.72292137, 0.77480818],\n",
       "                                   [0.77480818, 0.82669499],\n",
       "                                   [0.82669499, 0.87858179],\n",
       "                                   [0.87858179, 0.9304686 ],\n",
       "                                   [0.9304686 , 0.98235541],\n",
       "                                   [0.98235541, 1.03424222],\n",
       "                                   [1.03424222, 1.08612902],\n",
       "                                   [1.08612902, 1.13801583],\n",
       "                                   [1.13801583, 1.18990264],\n",
       "                                   [1.18990264, 1.24178945],\n",
       "                                   [1.24178945, 1.29367625],\n",
       "                                   [1.29367625, 1.34556306],\n",
       "                                   [1.34556306, 1.39744987],\n",
       "                                   [1.39744987, 1.44933668],\n",
       "                                   [1.44933668, 1.50122348],\n",
       "                                   [1.50122348, 1.55311029],\n",
       "                                   [1.55311029, 1.6049971 ],\n",
       "                                   [1.6049971 , 1.6568839 ],\n",
       "                                   [1.6568839 , 1.70877071],\n",
       "                                   [1.70877071, 1.76065752],\n",
       "                                   [1.76065752, 1.81254433],\n",
       "                                   [1.81254433, 1.86443113],\n",
       "                                   [1.86443113, 1.91631794],\n",
       "                                   [1.91631794, 1.96820475],\n",
       "                                   [1.96820475, 2.02009156],\n",
       "                                   [2.02009156, 2.07197836],\n",
       "                                   [2.07197836, 2.12386517],\n",
       "                                   [2.12386517, 2.17575198],\n",
       "                                   [2.17575198, 2.22763879],\n",
       "                                   [2.22763879, 2.27952559],\n",
       "                                   [2.27952559, 2.3314124 ],\n",
       "                                   [2.3314124 , 2.38329921],\n",
       "                                   [2.38329921, 2.43518602],\n",
       "                                   [2.43518602, 2.48707282],\n",
       "                                   [2.48707282, 2.53895963],\n",
       "                                   [2.53895963, 2.59084644],\n",
       "                                   [2.59084644, 2.64273325],\n",
       "                                   [2.64273325, 2.69462005],\n",
       "                                   [2.69462005, 2.74650686],\n",
       "                                   [2.74650686, 2.79839367],\n",
       "                                   [2.79839367, 2.85028048],\n",
       "                                   [2.85028048, 2.90216728],\n",
       "                                   [2.90216728, 2.95405409],\n",
       "                                   [2.95405409, 3.0059409 ],\n",
       "                                   [3.0059409 , 3.05782771],\n",
       "                                   [3.05782771, 3.10971451],\n",
       "                                   [3.10971451, 3.16160132],\n",
       "                                   [3.16160132, 3.21348813],\n",
       "                                   [3.21348813, 3.26537493],\n",
       "                                   [3.26537493, 3.31726174]]),\n",
       "              'hovertemplate': ('<b>count: %{y}</b><br>value: [' ... 'omdata[1]:.2f}]<extra></extra>'),\n",
       "              'marker': {'color': '#FF6D04'},\n",
       "              'offset': 0,\n",
       "              'type': 'bar',\n",
       "              'uid': '978b614a-7236-4274-99b3-8bfc62f35846',\n",
       "              'width': array([0.05188681, 0.05188681, 0.05188681, 0.05188681, 0.05188681, 0.05188681,\n",
       "                              0.05188681, 0.05188681, 0.05188681, 0.05188681, 0.05188681, 0.05188681,\n",
       "                              0.05188681, 0.05188681, 0.05188681, 0.05188681, 0.05188681, 0.05188681,\n",
       "                              0.05188681, 0.05188681, 0.05188681, 0.05188681, 0.05188681, 0.05188681,\n",
       "                              0.05188681, 0.05188681, 0.05188681, 0.05188681, 0.05188681, 0.05188681,\n",
       "                              0.05188681, 0.05188681, 0.05188681, 0.05188681, 0.05188681, 0.05188681,\n",
       "                              0.05188681, 0.05188681, 0.05188681, 0.05188681, 0.05188681, 0.05188681,\n",
       "                              0.05188681, 0.05188681, 0.05188681, 0.05188681, 0.05188681, 0.05188681,\n",
       "                              0.05188681, 0.05188681]),\n",
       "              'x': array([0.72292137, 0.77480818, 0.82669499, 0.87858179, 0.9304686 , 0.98235541,\n",
       "                          1.03424222, 1.08612902, 1.13801583, 1.18990264, 1.24178945, 1.29367625,\n",
       "                          1.34556306, 1.39744987, 1.44933668, 1.50122348, 1.55311029, 1.6049971 ,\n",
       "                          1.6568839 , 1.70877071, 1.76065752, 1.81254433, 1.86443113, 1.91631794,\n",
       "                          1.96820475, 2.02009156, 2.07197836, 2.12386517, 2.17575198, 2.22763879,\n",
       "                          2.27952559, 2.3314124 , 2.38329921, 2.43518602, 2.48707282, 2.53895963,\n",
       "                          2.59084644, 2.64273325, 2.69462005, 2.74650686, 2.79839367, 2.85028048,\n",
       "                          2.90216728, 2.95405409, 3.0059409 , 3.05782771, 3.10971451, 3.16160132,\n",
       "                          3.21348813, 3.26537493]),\n",
       "              'xaxis': 'x',\n",
       "              'y': array([1, 1, 1, 0, 0, 0, 0, 0, 1, 0, 1, 1, 2, 4, 3, 2, 1, 3, 0, 2, 1, 1, 1, 7,\n",
       "                          3, 4, 2, 2, 3, 0, 2, 0, 0, 0, 0, 0, 0, 0, 0, 2, 0, 0, 0, 0, 0, 0, 0, 0,\n",
       "                          2, 1]),\n",
       "              'yaxis': 'y'},\n",
       "             {'customdata': array([[2208.        , 2223.68000002],\n",
       "                                   [2223.68000002, 2239.36000004],\n",
       "                                   [2239.36000004, 2255.04000006],\n",
       "                                   [2255.04000006, 2270.72000008],\n",
       "                                   [2270.72000008, 2286.4000001 ],\n",
       "                                   [2286.4000001 , 2302.08000012],\n",
       "                                   [2302.08000012, 2317.76000014],\n",
       "                                   [2317.76000014, 2333.44000016],\n",
       "                                   [2333.44000016, 2349.12000018],\n",
       "                                   [2349.12000018, 2364.8000002 ],\n",
       "                                   [2364.8000002 , 2380.48000022],\n",
       "                                   [2380.48000022, 2396.16000024],\n",
       "                                   [2396.16000024, 2411.84000026],\n",
       "                                   [2411.84000026, 2427.52000028],\n",
       "                                   [2427.52000028, 2443.2000003 ],\n",
       "                                   [2443.2000003 , 2458.88000032],\n",
       "                                   [2458.88000032, 2474.56000034],\n",
       "                                   [2474.56000034, 2490.24000036],\n",
       "                                   [2490.24000036, 2505.92000038],\n",
       "                                   [2505.92000038, 2521.6000004 ],\n",
       "                                   [2521.6000004 , 2537.28000042],\n",
       "                                   [2537.28000042, 2552.96000044],\n",
       "                                   [2552.96000044, 2568.64000046],\n",
       "                                   [2568.64000046, 2584.32000048],\n",
       "                                   [2584.32000048, 2600.0000005 ],\n",
       "                                   [2600.0000005 , 2615.68000052],\n",
       "                                   [2615.68000052, 2631.36000054],\n",
       "                                   [2631.36000054, 2647.04000056],\n",
       "                                   [2647.04000056, 2662.72000058],\n",
       "                                   [2662.72000058, 2678.4000006 ],\n",
       "                                   [2678.4000006 , 2694.08000062],\n",
       "                                   [2694.08000062, 2709.76000064],\n",
       "                                   [2709.76000064, 2725.44000066],\n",
       "                                   [2725.44000066, 2741.12000068],\n",
       "                                   [2741.12000068, 2756.8000007 ],\n",
       "                                   [2756.8000007 , 2772.48000072],\n",
       "                                   [2772.48000072, 2788.16000074],\n",
       "                                   [2788.16000074, 2803.84000076],\n",
       "                                   [2803.84000076, 2819.52000078],\n",
       "                                   [2819.52000078, 2835.2000008 ],\n",
       "                                   [2835.2000008 , 2850.88000082],\n",
       "                                   [2850.88000082, 2866.56000084],\n",
       "                                   [2866.56000084, 2882.24000086],\n",
       "                                   [2882.24000086, 2897.92000088],\n",
       "                                   [2897.92000088, 2913.6000009 ],\n",
       "                                   [2913.6000009 , 2929.28000092],\n",
       "                                   [2929.28000092, 2944.96000094],\n",
       "                                   [2944.96000094, 2960.64000096],\n",
       "                                   [2960.64000096, 2976.32000098],\n",
       "                                   [2976.32000098, 2992.000001  ]]),\n",
       "              'hovertemplate': ('<b>count: %{y}</b><br>value: [' ... 'omdata[1]:.2f}]<extra></extra>'),\n",
       "              'marker': {'color': '#FF6D04'},\n",
       "              'offset': 0,\n",
       "              'type': 'bar',\n",
       "              'uid': '03ec41b2-8631-4645-8622-c0897103b475',\n",
       "              'width': array([15.68000002, 15.68000002, 15.68000002, 15.68000002, 15.68000002,\n",
       "                              15.68000002, 15.68000002, 15.68000002, 15.68000002, 15.68000002,\n",
       "                              15.68000002, 15.68000002, 15.68000002, 15.68000002, 15.68000002,\n",
       "                              15.68000002, 15.68000002, 15.68000002, 15.68000002, 15.68000002,\n",
       "                              15.68000002, 15.68000002, 15.68000002, 15.68000002, 15.68000002,\n",
       "                              15.68000002, 15.68000002, 15.68000002, 15.68000002, 15.68000002,\n",
       "                              15.68000002, 15.68000002, 15.68000002, 15.68000002, 15.68000002,\n",
       "                              15.68000002, 15.68000002, 15.68000002, 15.68000002, 15.68000002,\n",
       "                              15.68000002, 15.68000002, 15.68000002, 15.68000002, 15.68000002,\n",
       "                              15.68000002, 15.68000002, 15.68000002, 15.68000002, 15.68000002]),\n",
       "              'x': array([2208.        , 2223.68000002, 2239.36000004, 2255.04000006,\n",
       "                          2270.72000008, 2286.4000001 , 2302.08000012, 2317.76000014,\n",
       "                          2333.44000016, 2349.12000018, 2364.8000002 , 2380.48000022,\n",
       "                          2396.16000024, 2411.84000026, 2427.52000028, 2443.2000003 ,\n",
       "                          2458.88000032, 2474.56000034, 2490.24000036, 2505.92000038,\n",
       "                          2521.6000004 , 2537.28000042, 2552.96000044, 2568.64000046,\n",
       "                          2584.32000048, 2600.0000005 , 2615.68000052, 2631.36000054,\n",
       "                          2647.04000056, 2662.72000058, 2678.4000006 , 2694.08000062,\n",
       "                          2709.76000064, 2725.44000066, 2741.12000068, 2756.8000007 ,\n",
       "                          2772.48000072, 2788.16000074, 2803.84000076, 2819.52000078,\n",
       "                          2835.2000008 , 2850.88000082, 2866.56000084, 2882.24000086,\n",
       "                          2897.92000088, 2913.6000009 , 2929.28000092, 2944.96000094,\n",
       "                          2960.64000096, 2976.32000098]),\n",
       "              'xaxis': 'x2',\n",
       "              'y': array([ 2,  0,  0,  0,  0,  0,  0,  0,  0,  0,  0,  0,  0,  0,  0,  0,  0,  0,\n",
       "                           0,  0,  0,  0,  0,  0,  0,  0,  0,  0,  0,  0,  0,  0,  0,  1,  0,  0,\n",
       "                           0,  0,  0,  0,  0,  0,  0,  0,  0,  0,  0,  0,  0, 51]),\n",
       "              'yaxis': 'y2'},\n",
       "             {'customdata': array([[2208.        , 2223.68000002],\n",
       "                                   [2223.68000002, 2239.36000004],\n",
       "                                   [2239.36000004, 2255.04000006],\n",
       "                                   [2255.04000006, 2270.72000008],\n",
       "                                   [2270.72000008, 2286.4000001 ],\n",
       "                                   [2286.4000001 , 2302.08000012],\n",
       "                                   [2302.08000012, 2317.76000014],\n",
       "                                   [2317.76000014, 2333.44000016],\n",
       "                                   [2333.44000016, 2349.12000018],\n",
       "                                   [2349.12000018, 2364.8000002 ],\n",
       "                                   [2364.8000002 , 2380.48000022],\n",
       "                                   [2380.48000022, 2396.16000024],\n",
       "                                   [2396.16000024, 2411.84000026],\n",
       "                                   [2411.84000026, 2427.52000028],\n",
       "                                   [2427.52000028, 2443.2000003 ],\n",
       "                                   [2443.2000003 , 2458.88000032],\n",
       "                                   [2458.88000032, 2474.56000034],\n",
       "                                   [2474.56000034, 2490.24000036],\n",
       "                                   [2490.24000036, 2505.92000038],\n",
       "                                   [2505.92000038, 2521.6000004 ],\n",
       "                                   [2521.6000004 , 2537.28000042],\n",
       "                                   [2537.28000042, 2552.96000044],\n",
       "                                   [2552.96000044, 2568.64000046],\n",
       "                                   [2568.64000046, 2584.32000048],\n",
       "                                   [2584.32000048, 2600.0000005 ],\n",
       "                                   [2600.0000005 , 2615.68000052],\n",
       "                                   [2615.68000052, 2631.36000054],\n",
       "                                   [2631.36000054, 2647.04000056],\n",
       "                                   [2647.04000056, 2662.72000058],\n",
       "                                   [2662.72000058, 2678.4000006 ],\n",
       "                                   [2678.4000006 , 2694.08000062],\n",
       "                                   [2694.08000062, 2709.76000064],\n",
       "                                   [2709.76000064, 2725.44000066],\n",
       "                                   [2725.44000066, 2741.12000068],\n",
       "                                   [2741.12000068, 2756.8000007 ],\n",
       "                                   [2756.8000007 , 2772.48000072],\n",
       "                                   [2772.48000072, 2788.16000074],\n",
       "                                   [2788.16000074, 2803.84000076],\n",
       "                                   [2803.84000076, 2819.52000078],\n",
       "                                   [2819.52000078, 2835.2000008 ],\n",
       "                                   [2835.2000008 , 2850.88000082],\n",
       "                                   [2850.88000082, 2866.56000084],\n",
       "                                   [2866.56000084, 2882.24000086],\n",
       "                                   [2882.24000086, 2897.92000088],\n",
       "                                   [2897.92000088, 2913.6000009 ],\n",
       "                                   [2913.6000009 , 2929.28000092],\n",
       "                                   [2929.28000092, 2944.96000094],\n",
       "                                   [2944.96000094, 2960.64000096],\n",
       "                                   [2960.64000096, 2976.32000098],\n",
       "                                   [2976.32000098, 2992.000001  ]]),\n",
       "              'hovertemplate': ('<b>count: %{y}</b><br>value: [' ... 'omdata[1]:.2f}]<extra></extra>'),\n",
       "              'marker': {'color': '#FF6D04'},\n",
       "              'offset': 0,\n",
       "              'type': 'bar',\n",
       "              'uid': '8cb124bd-0b9e-4e3b-89dd-a4496b667323',\n",
       "              'width': array([15.68000002, 15.68000002, 15.68000002, 15.68000002, 15.68000002,\n",
       "                              15.68000002, 15.68000002, 15.68000002, 15.68000002, 15.68000002,\n",
       "                              15.68000002, 15.68000002, 15.68000002, 15.68000002, 15.68000002,\n",
       "                              15.68000002, 15.68000002, 15.68000002, 15.68000002, 15.68000002,\n",
       "                              15.68000002, 15.68000002, 15.68000002, 15.68000002, 15.68000002,\n",
       "                              15.68000002, 15.68000002, 15.68000002, 15.68000002, 15.68000002,\n",
       "                              15.68000002, 15.68000002, 15.68000002, 15.68000002, 15.68000002,\n",
       "                              15.68000002, 15.68000002, 15.68000002, 15.68000002, 15.68000002,\n",
       "                              15.68000002, 15.68000002, 15.68000002, 15.68000002, 15.68000002,\n",
       "                              15.68000002, 15.68000002, 15.68000002, 15.68000002, 15.68000002]),\n",
       "              'x': array([2208.        , 2223.68000002, 2239.36000004, 2255.04000006,\n",
       "                          2270.72000008, 2286.4000001 , 2302.08000012, 2317.76000014,\n",
       "                          2333.44000016, 2349.12000018, 2364.8000002 , 2380.48000022,\n",
       "                          2396.16000024, 2411.84000026, 2427.52000028, 2443.2000003 ,\n",
       "                          2458.88000032, 2474.56000034, 2490.24000036, 2505.92000038,\n",
       "                          2521.6000004 , 2537.28000042, 2552.96000044, 2568.64000046,\n",
       "                          2584.32000048, 2600.0000005 , 2615.68000052, 2631.36000054,\n",
       "                          2647.04000056, 2662.72000058, 2678.4000006 , 2694.08000062,\n",
       "                          2709.76000064, 2725.44000066, 2741.12000068, 2756.8000007 ,\n",
       "                          2772.48000072, 2788.16000074, 2803.84000076, 2819.52000078,\n",
       "                          2835.2000008 , 2850.88000082, 2866.56000084, 2882.24000086,\n",
       "                          2897.92000088, 2913.6000009 , 2929.28000092, 2944.96000094,\n",
       "                          2960.64000096, 2976.32000098]),\n",
       "              'xaxis': 'x3',\n",
       "              'y': array([ 2,  0,  0,  0,  0,  0,  0,  0,  0,  0,  0,  0,  0,  0,  0,  0,  0,  0,\n",
       "                           0,  0,  0,  0,  0,  0,  0,  0,  0,  0,  0,  0,  0,  0,  0,  1,  0,  0,\n",
       "                           0,  0,  0,  0,  0,  0,  0,  0,  0,  0,  0,  0,  0, 51]),\n",
       "              'yaxis': 'y3'}],\n",
       "    'layout': {'margin': {'b': 0, 'l': 0, 'r': 0, 't': 30},\n",
       "               'showlegend': False,\n",
       "               'template': '...',\n",
       "               'xaxis': {'anchor': 'y', 'domain': [0.0, 0.2888888888888889], 'title': {'text': 'image size (MB)'}},\n",
       "               'xaxis2': {'anchor': 'y2', 'domain': [0.35555555555555557, 0.6444444444444445], 'title': {'text': 'W'}},\n",
       "               'xaxis3': {'anchor': 'y3', 'domain': [0.7111111111111111, 1.0], 'title': {'text': 'H'}},\n",
       "               'yaxis': {'anchor': 'x', 'domain': [0.0, 1.0], 'title': {'text': 'count'}},\n",
       "               'yaxis2': {'anchor': 'x2', 'domain': [0.0, 1.0], 'title': {'text': 'count'}},\n",
       "               'yaxis3': {'anchor': 'x3', 'domain': [0.0, 1.0], 'title': {'text': 'count'}}}\n",
       "})"
      ]
     },
     "metadata": {},
     "output_type": "display_data"
    }
   ],
   "source": [
    "from fiftyone import ViewField as F\n",
    "\n",
    "plot1 = fo.NumericalHistogram(F(\"metadata.size_bytes\") / (1024*1024), bins=50, xlabel=\"image size (MB)\")\n",
    "plot2 = fo.NumericalHistogram(F(\"metadata.width\"), bins=50, xlabel=\"W\")\n",
    "plot3 = fo.NumericalHistogram(F(\"metadata.height\"), bins=50, xlabel=\"H\")\n",
    "plot = fo.ViewGrid([plot1, plot2, plot3], init_view=fo_dataset)\n",
    "plot.show()"
   ]
  },
  {
   "cell_type": "markdown",
   "id": "9278ae88-e998-4cb9-af4e-de5746f0ed43",
   "metadata": {},
   "source": [
    "# Remove Duplicate File"
   ]
  },
  {
   "cell_type": "code",
   "execution_count": 12,
   "id": "3ed0bbba-ca8b-413d-a9e9-48e9b96c242b",
   "metadata": {
    "tags": []
   },
   "outputs": [],
   "source": [
    "from collections import Counter\n",
    "from fiftyone import ViewField as F\n",
    "\n",
    "def find_duplicate_file_image(fo_dataset):\n",
    "    filehash_count = Counter(sample.filehash for sample in fo_dataset)\n",
    "    dup_filehashes = [k for k, v in filehash_count.items() if v > 1]\n",
    "    dup_view = (fo_dataset\n",
    "    # Extract samples with duplicate file hashes\n",
    "    .match(F(\"filehash\").is_in(dup_filehashes))\n",
    "    # Sort by file hash so duplicates will be adjacent\n",
    "    .sort_by(\"filehash\")\n",
    "    )\n",
    "    print(\"Number of images that have a duplicate: %d\" % len(dup_view))\n",
    "    print(\"Number of duplicates: %d\" % (len(dup_view) - len(dup_filehashes)))\n",
    "    return dup_view"
   ]
  },
  {
   "cell_type": "code",
   "execution_count": 13,
   "id": "88601074-55e2-42e7-a3ac-177fd86968ba",
   "metadata": {
    "tags": []
   },
   "outputs": [
    {
     "name": "stdout",
     "output_type": "stream",
     "text": [
      "Number of images that have a duplicate: 18\n",
      "Number of duplicates: 9\n"
     ]
    }
   ],
   "source": [
    "duplicate_view = find_duplicate_file_image(fo_dataset)"
   ]
  },
  {
   "cell_type": "code",
   "execution_count": 14,
   "id": "a3635541-3c0f-4a43-a889-61ae1d65b66e",
   "metadata": {
    "tags": []
   },
   "outputs": [
    {
     "name": "stdout",
     "output_type": "stream",
     "text": [
      "Length of dataset before delete: 54\n",
      "Length of dataset after delete: 45\n",
      "Number of unique file hashes: 45\n"
     ]
    }
   ],
   "source": [
    "# Delete duplicate view\n",
    "\n",
    "print(\"Length of dataset before delete: %d\" % len(fo_dataset))\n",
    "temp_dup_filehash = set()\n",
    "for sample in duplicate_view:\n",
    "    if sample.filehash not in temp_dup_filehash:\n",
    "        temp_dup_filehash.add(sample.filehash)\n",
    "        continue\n",
    "    del fo_dataset[sample.id]\n",
    "\n",
    "print(\"Length of dataset after delete: %d\" % len(fo_dataset))\n",
    "# Verify that the dataset no longer contains any duplicates\n",
    "print(\"Number of unique file hashes: %d\" % len({s.filehash for s in fo_dataset}))"
   ]
  },
  {
   "cell_type": "markdown",
   "id": "2ba30419-e4d1-4373-8427-70e2b722e9c8",
   "metadata": {},
   "source": [
    "# Create Custom Labels"
   ]
  },
  {
   "cell_type": "code",
   "execution_count": 15,
   "id": "f043500d-2540-430a-bdf1-6f80890639e9",
   "metadata": {
    "tags": []
   },
   "outputs": [],
   "source": [
    "label_list = list()\n",
    "for sample in fo_dataset:\n",
    "    sample[\"ground_truth\"] = \"not_labeled\"\n",
    "    label_list.append(\"not_labeled\")\n",
    "    sample.save()"
   ]
  },
  {
   "cell_type": "markdown",
   "id": "9c980777-8a7d-434b-b379-7989b669a33f",
   "metadata": {},
   "source": [
    "# Compute Embedding with Pre-Trained Model FiftyOne"
   ]
  },
  {
   "cell_type": "code",
   "execution_count": 16,
   "id": "54b68059-0759-44c3-871e-e9d6e04a4c18",
   "metadata": {
    "tags": []
   },
   "outputs": [],
   "source": [
    "# Download model\n",
    "import fiftyone.zoo as foz\n",
    "model_name = \"resnet50-imagenet-torch\"\n",
    "model = foz.load_zoo_model(model_name)"
   ]
  },
  {
   "cell_type": "code",
   "execution_count": 17,
   "id": "09e4f862-0a68-474c-be78-7382b836ffc0",
   "metadata": {
    "tags": []
   },
   "outputs": [
    {
     "name": "stdout",
     "output_type": "stream",
     "text": []
    },
    {
     "name": "stdout",
     "output_type": "stream",
     "text": [
      " 100% |███████████████████| 45/45 [18.8s elapsed, 0s remaining, 2.7 samples/s]      \n"
     ]
    }
   ],
   "source": [
    "import numpy as np\n",
    "# Compute embeddings and save it in numpy array\n",
    "img_embeddings = fo_dataset.compute_embeddings(model=model)\n",
    "np.save(\"full_frame_embeddings.npy\", img_embeddings)"
   ]
  },
  {
   "cell_type": "markdown",
   "id": "e5619d42-de51-4f5e-a09e-4249d85f83cb",
   "metadata": {},
   "source": [
    "# Utils Function Visualization"
   ]
  },
  {
   "cell_type": "code",
   "execution_count": 18,
   "id": "29c2efad-0013-426a-990b-8c28db68dd7a",
   "metadata": {},
   "outputs": [],
   "source": [
    "from fiftyone import ViewField as F\n",
    "import fiftyone.brain as fob\n",
    "import fiftyone.core.utils as fou\n",
    "\n",
    "def compute_visualization(\n",
    "    dataset,\n",
    "    embeddings,\n",
    "    method=\"umap\",\n",
    "    brain_key=\"umap_embeddings\",\n",
    "    ):\n",
    "    # Compute 2D representation using pre-computed embeddings\n",
    "    viz_results = fob.compute_visualization(\n",
    "        dataset,\n",
    "        embeddings=embeddings,\n",
    "        num_dims=2,\n",
    "        method=method,\n",
    "        brain_key=brain_key,\n",
    "        verbose=True,\n",
    "        seed=51)\n",
    "    return viz_results\n",
    "\n",
    "def compute_uniqueness(dataset, embeddings):\n",
    "    fob.compute_uniqueness(dataset, embeddings=embeddings)\n",
    "    dataset.sort_by(\"uniqueness\", reverse=True)\n",
    "    return dataset\n",
    "\n",
    "def plot_img_embedding(viz_result, labels=\"ground_truth\"):\n",
    "    plot = viz_result.visualize(labels=labels)\n",
    "    return plot\n",
    "\n",
    "def plot_uniqueness(visualization):\n",
    "    # num classes on each images, can be used for size of the scatter plot\n",
    "    # num_objects = self.dataset.values(\"ground_truth\", F(\"classifications\").length())\n",
    "    # Visualize embeddings, colored by ground truth label\n",
    "    plot = visualization.visualize(\n",
    "            sizes=\"metadata.size_bytes\",\n",
    "            labels=\"uniqueness\",\n",
    "            # classes=\"ground_truth.classifications.label\"\n",
    "    )\n",
    "    return plot"
   ]
  },
  {
   "cell_type": "markdown",
   "id": "6d9eb04b-ce21-488b-a4e0-460c7eb8ef1c",
   "metadata": {
    "tags": []
   },
   "source": [
    "# Distribution Feature Embedding"
   ]
  },
  {
   "cell_type": "code",
   "execution_count": 19,
   "id": "450986f3-a431-4619-b2ba-6d6ebcd108ad",
   "metadata": {
    "tags": []
   },
   "outputs": [
    {
     "name": "stdout",
     "output_type": "stream",
     "text": [
      "Generating visualization...\n"
     ]
    },
    {
     "name": "stderr",
     "output_type": "stream",
     "text": [
      "/root/.local/lib/python3.8/site-packages/umap/umap_.py:1943: UserWarning:\n",
      "\n",
      "n_jobs value -1 overridden to 1 by setting random_state. Use no seed for parallelism.\n",
      "\n"
     ]
    },
    {
     "name": "stdout",
     "output_type": "stream",
     "text": [
      "UMAP(random_state=51, verbose=True)\n",
      "Thu Oct 26 21:06:15 2023 Construct fuzzy simplicial set\n",
      "Thu Oct 26 21:06:16 2023 Finding Nearest Neighbors\n",
      "Thu Oct 26 21:06:18 2023 Finished Nearest Neighbor Search\n",
      "Thu Oct 26 21:06:20 2023 Construct embedding\n"
     ]
    },
    {
     "data": {
      "application/vnd.jupyter.widget-view+json": {
       "model_id": "7964de1331084d4398fdf9dd9e03ef99",
       "version_major": 2,
       "version_minor": 0
      },
      "text/plain": [
       "Epochs completed:   0%|            0/500 [00:00]"
      ]
     },
     "metadata": {},
     "output_type": "display_data"
    },
    {
     "name": "stdout",
     "output_type": "stream",
     "text": [
      "\tcompleted  0  /  500 epochs\n",
      "\tcompleted  50  /  500 epochs\n",
      "\tcompleted  100  /  500 epochs\n",
      "\tcompleted  150  /  500 epochs\n",
      "\tcompleted  200  /  500 epochs\n",
      "\tcompleted  250  /  500 epochs\n",
      "\tcompleted  300  /  500 epochs\n",
      "\tcompleted  350  /  500 epochs\n",
      "\tcompleted  400  /  500 epochs\n",
      "\tcompleted  450  /  500 epochs\n",
      "Thu Oct 26 21:06:20 2023 Finished embedding\n"
     ]
    }
   ],
   "source": [
    "viz_results = compute_visualization(fo_dataset, img_embeddings)"
   ]
  },
  {
   "cell_type": "code",
   "execution_count": 20,
   "id": "b8ef0a65-6309-4973-a585-8183f2ce6da0",
   "metadata": {
    "tags": []
   },
   "outputs": [],
   "source": [
    "plot_embedding = plot_img_embedding(viz_results)"
   ]
  },
  {
   "cell_type": "code",
   "execution_count": 21,
   "id": "d9aa2176-5ed8-4bb6-b6e6-f66bfc8183b7",
   "metadata": {
    "tags": []
   },
   "outputs": [
    {
     "data": {
      "text/plain": []
     },
     "metadata": {},
     "output_type": "display_data"
    },
    {
     "data": {
      "text/plain": []
     },
     "metadata": {},
     "output_type": "display_data"
    },
    {
     "data": {
      "application/vnd.jupyter.widget-view+json": {
       "model_id": "35a2f88101c64c918936f2d0ee97a382",
       "version_major": 2,
       "version_minor": 0
      },
      "text/plain": [
       "FigureWidget({\n",
       "    'data': [{'customdata': array(['653ad4a7a6d8e8c7e4844ec3', '653ad4a7a6d8e8c7e4844ec4',\n",
       "                                   '653ad4a7a6d8e8c7e4844ec6', '653ad4a7a6d8e8c7e4844ec8',\n",
       "                                   '653ad4a7a6d8e8c7e4844eca', '653ad4a7a6d8e8c7e4844ecb',\n",
       "                                   '653ad4a7a6d8e8c7e4844ecc', '653ad4a7a6d8e8c7e4844ecd',\n",
       "                                   '653ad4a7a6d8e8c7e4844ecf', '653ad4a7a6d8e8c7e4844ed1',\n",
       "                                   '653ad4a7a6d8e8c7e4844ed2', '653ad4a7a6d8e8c7e4844ed3',\n",
       "                                   '653ad4a7a6d8e8c7e4844ed4', '653ad4a7a6d8e8c7e4844ed5',\n",
       "                                   '653ad4a7a6d8e8c7e4844ed6', '653ad4a7a6d8e8c7e4844ed7',\n",
       "                                   '653ad4a7a6d8e8c7e4844ed8', '653ad4a7a6d8e8c7e4844ed9',\n",
       "                                   '653ad4a7a6d8e8c7e4844eda', '653ad4a7a6d8e8c7e4844edb',\n",
       "                                   '653ad4a7a6d8e8c7e4844edc', '653ad4a7a6d8e8c7e4844edd',\n",
       "                                   '653ad4a7a6d8e8c7e4844ede', '653ad4a7a6d8e8c7e4844edf',\n",
       "                                   '653ad4a7a6d8e8c7e4844ee0', '653ad4a7a6d8e8c7e4844ee1',\n",
       "                                   '653ad4a7a6d8e8c7e4844ee2', '653ad4a7a6d8e8c7e4844ee3',\n",
       "                                   '653ad4a7a6d8e8c7e4844ee4', '653ad4a7a6d8e8c7e4844ee5',\n",
       "                                   '653ad4a7a6d8e8c7e4844ee6', '653ad4a7a6d8e8c7e4844ee8',\n",
       "                                   '653ad4a7a6d8e8c7e4844ee9', '653ad4a7a6d8e8c7e4844eea',\n",
       "                                   '653ad4a7a6d8e8c7e4844eeb', '653ad4a7a6d8e8c7e4844eec',\n",
       "                                   '653ad4a7a6d8e8c7e4844eed', '653ad4a7a6d8e8c7e4844eee',\n",
       "                                   '653ad4a7a6d8e8c7e4844eef', '653ad4a7a6d8e8c7e4844ef1',\n",
       "                                   '653ad4a7a6d8e8c7e4844ef3', '653ad4a7a6d8e8c7e4844ef5',\n",
       "                                   '653ad4a7a6d8e8c7e4844ef6', '653ad4a7a6d8e8c7e4844ef7',\n",
       "                                   '653ad4a7a6d8e8c7e4844ef8'], dtype=object),\n",
       "              'hovertemplate': ('<b>ground_truth: %{text}</b><b' ... ': %{customdata}<extra></extra>'),\n",
       "              'line': {'color': '#FF6D04'},\n",
       "              'mode': 'markers',\n",
       "              'name': 'not_labeled',\n",
       "              'showlegend': True,\n",
       "              'text': array(['not_labeled', 'not_labeled', 'not_labeled', 'not_labeled',\n",
       "                             'not_labeled', 'not_labeled', 'not_labeled', 'not_labeled',\n",
       "                             'not_labeled', 'not_labeled', 'not_labeled', 'not_labeled',\n",
       "                             'not_labeled', 'not_labeled', 'not_labeled', 'not_labeled',\n",
       "                             'not_labeled', 'not_labeled', 'not_labeled', 'not_labeled',\n",
       "                             'not_labeled', 'not_labeled', 'not_labeled', 'not_labeled',\n",
       "                             'not_labeled', 'not_labeled', 'not_labeled', 'not_labeled',\n",
       "                             'not_labeled', 'not_labeled', 'not_labeled', 'not_labeled',\n",
       "                             'not_labeled', 'not_labeled', 'not_labeled', 'not_labeled',\n",
       "                             'not_labeled', 'not_labeled', 'not_labeled', 'not_labeled',\n",
       "                             'not_labeled', 'not_labeled', 'not_labeled', 'not_labeled',\n",
       "                             'not_labeled'], dtype='<U11'),\n",
       "              'type': 'scattergl',\n",
       "              'uid': 'a068a555-85ea-4d30-a1d8-7d5ee2144974',\n",
       "              'x': array([ 7.362387 ,  7.780994 ,  7.5521426,  8.046304 ,  7.5853477,  9.3425045,\n",
       "                           8.956392 ,  9.246524 ,  9.549725 , 10.265683 , 10.470598 ,  9.589788 ,\n",
       "                           9.8735285,  9.814864 ,  9.962392 ,  9.832633 ,  9.773636 ,  9.402745 ,\n",
       "                          10.318375 ,  8.119142 ,  8.37389  ,  8.252018 , 11.500479 , 11.537336 ,\n",
       "                          10.927773 , 11.233622 , 12.053962 , 11.849217 , 12.248867 , 12.33287  ,\n",
       "                          12.1707   , 12.139578 , 11.916275 , 11.508438 , 11.776973 ,  9.0978775,\n",
       "                           9.253221 , 10.378844 , 10.741062 , 10.789305 , 10.184281 , 10.488674 ,\n",
       "                          10.621814 , 11.084415 , 10.349967 ], dtype=float32),\n",
       "              'y': array([ 9.189099 ,  9.813848 ,  9.485556 ,  9.6395855,  9.4310665, 10.47226  ,\n",
       "                          11.414278 , 11.795483 , 11.495697 , 11.741309 , 12.437253 , 10.95443  ,\n",
       "                          10.607316 , 11.3666315, 11.84044  , 12.539706 , 12.267869 , 12.2138815,\n",
       "                          12.119268 , 12.066808 , 12.216608 , 12.344986 , 11.280681 , 10.765381 ,\n",
       "                          10.552791 , 10.850389 , 11.057894 , 10.631975 , 10.580599 ,  9.701723 ,\n",
       "                           9.7024765,  9.299694 ,  9.573237 ,  9.870856 , 10.046014 , 10.865186 ,\n",
       "                          12.531293 , 10.502994 , 10.835966 , 11.312079 ,  9.511073 ,  9.791573 ,\n",
       "                           9.894758 , 11.556306 , 10.986473 ], dtype=float32)}],\n",
       "    'layout': {'legend': {'itemsizing': 'constant', 'title': {'text': 'ground_truth'}},\n",
       "               'margin': {'b': 0, 'l': 0, 'r': 0, 't': 30},\n",
       "               'template': '...'}\n",
       "})"
      ]
     },
     "metadata": {},
     "output_type": "display_data"
    }
   ],
   "source": [
    "plot_embedding.show()"
   ]
  },
  {
   "cell_type": "markdown",
   "id": "f03b1a92-8c7d-47e6-b86c-b9b2e1f37201",
   "metadata": {},
   "source": [
    "# Distribution Uniqueness Feature Embedding"
   ]
  },
  {
   "cell_type": "code",
   "execution_count": 22,
   "id": "a1e1d2d7-d61a-46c8-99fd-dc43132717fd",
   "metadata": {},
   "outputs": [
    {
     "name": "stdout",
     "output_type": "stream",
     "text": [
      "Computing uniqueness...\n",
      "Uniqueness computation complete\n"
     ]
    }
   ],
   "source": [
    "fo_dataset = compute_uniqueness(fo_dataset, img_embeddings)"
   ]
  },
  {
   "cell_type": "code",
   "execution_count": 23,
   "id": "2eb0309e-646c-414f-ac98-3a9b80e8cae9",
   "metadata": {
    "tags": []
   },
   "outputs": [],
   "source": [
    "plot_unique_res = plot_uniqueness(viz_results)"
   ]
  },
  {
   "cell_type": "code",
   "execution_count": 24,
   "id": "4c4e12e4-164a-4189-af3e-5f1ef050fff3",
   "metadata": {
    "tags": []
   },
   "outputs": [
    {
     "data": {
      "text/plain": []
     },
     "metadata": {},
     "output_type": "display_data"
    },
    {
     "data": {
      "text/plain": []
     },
     "metadata": {},
     "output_type": "display_data"
    },
    {
     "data": {
      "application/vnd.jupyter.widget-view+json": {
       "model_id": "f44e73fa6ba44d74815e3b8099d59a46",
       "version_major": 2,
       "version_minor": 0
      },
      "text/plain": [
       "FigureWidget({\n",
       "    'data': [{'customdata': array(['653ad4a7a6d8e8c7e4844ec3', '653ad4a7a6d8e8c7e4844ec4',\n",
       "                                   '653ad4a7a6d8e8c7e4844ec6', '653ad4a7a6d8e8c7e4844ec8',\n",
       "                                   '653ad4a7a6d8e8c7e4844eca', '653ad4a7a6d8e8c7e4844ecb',\n",
       "                                   '653ad4a7a6d8e8c7e4844ecc', '653ad4a7a6d8e8c7e4844ecd',\n",
       "                                   '653ad4a7a6d8e8c7e4844ecf', '653ad4a7a6d8e8c7e4844ed1',\n",
       "                                   '653ad4a7a6d8e8c7e4844ed2', '653ad4a7a6d8e8c7e4844ed3',\n",
       "                                   '653ad4a7a6d8e8c7e4844ed4', '653ad4a7a6d8e8c7e4844ed5',\n",
       "                                   '653ad4a7a6d8e8c7e4844ed6', '653ad4a7a6d8e8c7e4844ed7',\n",
       "                                   '653ad4a7a6d8e8c7e4844ed8', '653ad4a7a6d8e8c7e4844ed9',\n",
       "                                   '653ad4a7a6d8e8c7e4844eda', '653ad4a7a6d8e8c7e4844edb',\n",
       "                                   '653ad4a7a6d8e8c7e4844edc', '653ad4a7a6d8e8c7e4844edd',\n",
       "                                   '653ad4a7a6d8e8c7e4844ede', '653ad4a7a6d8e8c7e4844edf',\n",
       "                                   '653ad4a7a6d8e8c7e4844ee0', '653ad4a7a6d8e8c7e4844ee1',\n",
       "                                   '653ad4a7a6d8e8c7e4844ee2', '653ad4a7a6d8e8c7e4844ee3',\n",
       "                                   '653ad4a7a6d8e8c7e4844ee4', '653ad4a7a6d8e8c7e4844ee5',\n",
       "                                   '653ad4a7a6d8e8c7e4844ee6', '653ad4a7a6d8e8c7e4844ee8',\n",
       "                                   '653ad4a7a6d8e8c7e4844ee9', '653ad4a7a6d8e8c7e4844eea',\n",
       "                                   '653ad4a7a6d8e8c7e4844eeb', '653ad4a7a6d8e8c7e4844eec',\n",
       "                                   '653ad4a7a6d8e8c7e4844eed', '653ad4a7a6d8e8c7e4844eee',\n",
       "                                   '653ad4a7a6d8e8c7e4844eef', '653ad4a7a6d8e8c7e4844ef1',\n",
       "                                   '653ad4a7a6d8e8c7e4844ef3', '653ad4a7a6d8e8c7e4844ef5',\n",
       "                                   '653ad4a7a6d8e8c7e4844ef6', '653ad4a7a6d8e8c7e4844ef7',\n",
       "                                   '653ad4a7a6d8e8c7e4844ef8'], dtype=object),\n",
       "              'hovertemplate': ('<b>uniqueness: %{marker.color}' ... ': %{customdata}<extra></extra>'),\n",
       "              'marker': {'color': array([0.64313517, 0.75067845, 0.63010241, 0.78277167, 0.64889473, 0.77723608,\n",
       "                                         0.52074963, 0.50520595, 0.57192429, 0.47614124, 0.46325153, 0.38273816,\n",
       "                                         0.39099357, 0.52132627, 0.54443281, 0.509475  , 0.51896145, 0.73107701,\n",
       "                                         1.        , 0.47770505, 0.45055378, 0.48674443, 0.39672476, 0.40650518,\n",
       "                                         0.40795718, 0.37355703, 0.26186105, 0.26780983, 0.31682698, 0.50215819,\n",
       "                                         0.43371831, 0.43215657, 0.39714928, 0.60788338, 0.65349028, 0.66541662,\n",
       "                                         0.78504509, 0.84129228, 0.67754442, 0.554878  , 0.42239616, 0.36437723,\n",
       "                                         0.38738586, 0.80278929, 0.91670781]),\n",
       "                         'colorbar': {'len': 1, 'lenmode': 'fraction', 'title': {'text': 'uniqueness'}},\n",
       "                         'colorscale': [[0.0, '#440154'], [0.1111111111111111,\n",
       "                                        '#482878'], [0.2222222222222222,\n",
       "                                        '#3e4989'], [0.3333333333333333,\n",
       "                                        '#31688e'], [0.4444444444444444,\n",
       "                                        '#26828e'], [0.5555555555555556,\n",
       "                                        '#1f9e89'], [0.6666666666666666,\n",
       "                                        '#35b779'], [0.7777777777777778,\n",
       "                                        '#6ece58'], [0.8888888888888888,\n",
       "                                        '#b5de2b'], [1.0, '#fde725']],\n",
       "                         'showscale': True,\n",
       "                         'size': array([1920904, 1423239, 2310287, 2020973, 2168149, 2073887, 2070330, 2043101,\n",
       "                                        2191427, 2161434, 2008741, 2237282, 2146409, 1506194, 1533158, 1244819,\n",
       "                                        1303071, 1826847, 1386749,  877029,  864858,  758038, 2277008, 2330622,\n",
       "                                        2392276, 2413625, 2098915, 2129307, 2032299, 1511610, 1551866, 1584423,\n",
       "                                        1591485, 1494267, 1483494, 2049667, 3478400, 2043548, 3381047, 1687048,\n",
       "                                        2927141, 1820324, 1855682, 1709738, 1674512]),\n",
       "                         'sizemin': 4,\n",
       "                         'sizemode': 'diameter',\n",
       "                         'sizeref': 115946.66666666667},\n",
       "              'mode': 'markers',\n",
       "              'type': 'scattergl',\n",
       "              'uid': '27f81f5b-0b07-4383-9610-3c2ac341e67c',\n",
       "              'x': array([ 7.362387 ,  7.780994 ,  7.5521426,  8.046304 ,  7.5853477,  9.3425045,\n",
       "                           8.956392 ,  9.246524 ,  9.549725 , 10.265683 , 10.470598 ,  9.589788 ,\n",
       "                           9.8735285,  9.814864 ,  9.962392 ,  9.832633 ,  9.773636 ,  9.402745 ,\n",
       "                          10.318375 ,  8.119142 ,  8.37389  ,  8.252018 , 11.500479 , 11.537336 ,\n",
       "                          10.927773 , 11.233622 , 12.053962 , 11.849217 , 12.248867 , 12.33287  ,\n",
       "                          12.1707   , 12.139578 , 11.916275 , 11.508438 , 11.776973 ,  9.0978775,\n",
       "                           9.253221 , 10.378844 , 10.741062 , 10.789305 , 10.184281 , 10.488674 ,\n",
       "                          10.621814 , 11.084415 , 10.349967 ], dtype=float32),\n",
       "              'y': array([ 9.189099 ,  9.813848 ,  9.485556 ,  9.6395855,  9.4310665, 10.47226  ,\n",
       "                          11.414278 , 11.795483 , 11.495697 , 11.741309 , 12.437253 , 10.95443  ,\n",
       "                          10.607316 , 11.3666315, 11.84044  , 12.539706 , 12.267869 , 12.2138815,\n",
       "                          12.119268 , 12.066808 , 12.216608 , 12.344986 , 11.280681 , 10.765381 ,\n",
       "                          10.552791 , 10.850389 , 11.057894 , 10.631975 , 10.580599 ,  9.701723 ,\n",
       "                           9.7024765,  9.299694 ,  9.573237 ,  9.870856 , 10.046014 , 10.865186 ,\n",
       "                          12.531293 , 10.502994 , 10.835966 , 11.312079 ,  9.511073 ,  9.791573 ,\n",
       "                           9.894758 , 11.556306 , 10.986473 ], dtype=float32)}],\n",
       "    'layout': {'margin': {'b': 0, 'l': 0, 'r': 0, 't': 30}, 'template': '...'}\n",
       "})"
      ]
     },
     "metadata": {},
     "output_type": "display_data"
    }
   ],
   "source": [
    "plot_unique_res.show()"
   ]
  },
  {
   "cell_type": "markdown",
   "id": "82ef040a-35bf-405e-a97e-cd1043aba14f",
   "metadata": {},
   "source": [
    "# Attach Plot in Running Session"
   ]
  },
  {
   "cell_type": "code",
   "execution_count": 25,
   "id": "277da523-ffd0-4969-a843-6bdc78ea1510",
   "metadata": {
    "collapsed": true,
    "jupyter": {
     "outputs_hidden": true
    },
    "tags": []
   },
   "outputs": [
    {
     "data": {
      "text/html": [
       "\n",
       "        <iframe\n",
       "            width=\"100%\"\n",
       "            height=\"800\"\n",
       "            src=\"http://localhost:5151/?notebook=True&subscription=d41bc1ff-7658-470e-bd50-6140dd21174a\"\n",
       "            frameborder=\"0\"\n",
       "            allowfullscreen\n",
       "            \n",
       "        ></iframe>\n",
       "        "
      ],
      "text/plain": [
       "<IPython.lib.display.IFrame at 0x7f86b549ebe0>"
      ]
     },
     "metadata": {},
     "output_type": "display_data"
    }
   ],
   "source": [
    "fo.close_app()\n",
    "session = fo.launch_app(fo_dataset, address=\"localhost\")\n",
    "\n",
    "session.plots.attach(plot_embedding)\n",
    "session.plots.attach(plot_unique_res)"
   ]
  },
  {
   "cell_type": "markdown",
   "id": "0f7bcfd7-ca1d-4290-83de-ef384c7e1b6b",
   "metadata": {},
   "source": [
    "# Split Dataset with Uniqueness Embedding"
   ]
  },
  {
   "cell_type": "code",
   "execution_count": 26,
   "id": "07a6febc-3c7a-45fb-9e63-ca74f4f0518f",
   "metadata": {},
   "outputs": [],
   "source": [
    "# Function to train and test split fiftyone dataset\n",
    "def train_test_split(dataset, percentage=0.25):\n",
    "    temp_dataset = dataset.clone()\n",
    "    test_size = int(len(dataset) * percentage)\n",
    "    test_samples = temp_dataset.take(test_size)\n",
    "    temp_dataset.delete_samples(test_samples)\n",
    "    test_dataset = test_samples.clone()\n",
    "    test_dataset.persistent = True\n",
    "    temp_dataset.persistent = True\n",
    "    return temp_dataset, test_dataset"
   ]
  },
  {
   "cell_type": "code",
   "execution_count": 28,
   "id": "054005f9-2203-46a9-b876-103e48e80e0d",
   "metadata": {},
   "outputs": [],
   "source": [
    "# Split to two type, common and unique\n",
    "unique_dataset_samples = fo_dataset.match(F(\"uniqueness\") > 0.6)\n",
    "common_dataset_samples = fo_dataset.match(F(\"uniqueness\") < 0.6)"
   ]
  },
  {
   "cell_type": "code",
   "execution_count": 29,
   "id": "779e9858-cf38-4463-aba3-717d7fa6c43b",
   "metadata": {},
   "outputs": [],
   "source": [
    "train_common, test_common = train_test_split(common_dataset_samples)"
   ]
  },
  {
   "cell_type": "code",
   "execution_count": 30,
   "id": "13ae39bb-2234-45ac-9c45-26b589bf9031",
   "metadata": {},
   "outputs": [],
   "source": [
    "train_unique, test_unique = train_test_split(unique_dataset_samples)"
   ]
  },
  {
   "cell_type": "code",
   "execution_count": 31,
   "id": "c8532b45-d7bd-462f-9250-fd08249bdab4",
   "metadata": {},
   "outputs": [],
   "source": [
    "train_common.merge_samples(train_unique)"
   ]
  },
  {
   "cell_type": "code",
   "execution_count": 32,
   "id": "15bc92b1-da99-46e3-93ac-af09a1c7100a",
   "metadata": {},
   "outputs": [],
   "source": [
    "test_common.merge_samples(test_unique)"
   ]
  },
  {
   "cell_type": "markdown",
   "id": "85ab8624-cb66-4e63-9ff0-02c3402c9da3",
   "metadata": {},
   "source": [
    "# Export FiftyOne Dataset"
   ]
  },
  {
   "cell_type": "code",
   "execution_count": 33,
   "id": "53b8bde3-16dd-4048-9df9-eead876573b8",
   "metadata": {},
   "outputs": [],
   "source": [
    "def merge_dataset(list_datasets: list, dataset_name: str):\n",
    "    merged_dataset = fo.Dataset(name=dataset_name, overwrite=True)\n",
    "    for dataset in list_datasets:\n",
    "        for sample in dataset:\n",
    "            merged_dataset.add_sample(sample)\n",
    "    return merged_dataset"
   ]
  },
  {
   "cell_type": "code",
   "execution_count": 34,
   "id": "b840826e-439f-406b-8d15-e7f657c801bb",
   "metadata": {},
   "outputs": [],
   "source": [
    "# Tag for training\n",
    "for sample in train_common:\n",
    "    sample.tags.append(\"train\")\n",
    "    sample.save()\n",
    "\n",
    "# Tag for testing\n",
    "for sample in test_common:\n",
    "    sample.tags.append(\"test\")\n",
    "    sample.save()"
   ]
  },
  {
   "cell_type": "code",
   "execution_count": 35,
   "id": "d065b348-8d36-4e2d-b529-c3de632a09fb",
   "metadata": {},
   "outputs": [
    {
     "data": {
      "text/plain": [
       "Name:        example_demo_dataset_processed\n",
       "Media type:  image\n",
       "Num samples: 45\n",
       "Persistent:  False\n",
       "Tags:        []\n",
       "Sample fields:\n",
       "    id:           fiftyone.core.fields.ObjectIdField\n",
       "    filepath:     fiftyone.core.fields.StringField\n",
       "    tags:         fiftyone.core.fields.ListField(fiftyone.core.fields.StringField)\n",
       "    metadata:     fiftyone.core.fields.EmbeddedDocumentField(fiftyone.core.metadata.ImageMetadata)\n",
       "    filehash:     fiftyone.core.fields.IntField\n",
       "    width:        fiftyone.core.fields.IntField\n",
       "    height:       fiftyone.core.fields.IntField\n",
       "    size_kb:      fiftyone.core.fields.IntField\n",
       "    ground_truth: fiftyone.core.fields.StringField\n",
       "    uniqueness:   fiftyone.core.fields.FloatField"
      ]
     },
     "execution_count": 35,
     "metadata": {},
     "output_type": "execute_result"
    }
   ],
   "source": [
    "# merged dataset\n",
    "NEW_DATASET_NAME = \"example_demo_dataset_processed\"\n",
    "merged_dataset = merge_dataset([train_common, test_common], NEW_DATASET_NAME)\n",
    "merged_dataset"
   ]
  },
  {
   "cell_type": "code",
   "execution_count": 37,
   "id": "d7f730af-d939-489b-adc4-ad51e0a75948",
   "metadata": {},
   "outputs": [
    {
     "name": "stdout",
     "output_type": "stream",
     "text": [
      "Ignoring unsupported parameter 'split'\n",
      " 100% |███████████████████| 34/34 [70.6ms elapsed, 0s remaining, 481.8 samples/s] \n",
      "Ignoring unsupported parameter 'split'\n",
      " 100% |███████████████████| 11/11 [36.0ms elapsed, 0s remaining, 305.6 samples/s] \n"
     ]
    }
   ],
   "source": [
    "import os\n",
    "\n",
    "splits = [\"train\", \"test\"]\n",
    "export_dir = \"example_demo_dataset_processed\"\n",
    "label_field = \"ground_truth\"\n",
    "\n",
    "# Export the splits\n",
    "for split in splits:\n",
    "    split_view = merged_dataset.match_tags(split)\n",
    "    tag_export_dir = os.path.join(export_dir, split)\n",
    "    split_view.export(\n",
    "        export_dir=tag_export_dir,\n",
    "        dataset_type=fo.types.ImageDirectory,\n",
    "        # label_field=label_field,\n",
    "        split=split,\n",
    "        # classes=class_list\n",
    "    )"
   ]
  },
  {
   "cell_type": "markdown",
   "id": "7075b175-e81c-4c4a-8f04-85978ecbd331",
   "metadata": {},
   "source": [
    "# What's Next?"
   ]
  },
  {
   "cell_type": "markdown",
   "id": "1a7165d4-2b2c-43d6-b9fd-a895203b2482",
   "metadata": {},
   "source": [
    "- [MLOps Concept](https://ml-ops.org/)\n",
    "- [FiftyOne User Guide](https://docs.voxel51.com/user_guide/index.html)\n",
    "- [Fiftyone Tutorials](https://docs.voxel51.com/tutorials/index.html)\n",
    "- [Fiftyone Cheat Sheets](https://docs.voxel51.com/cheat_sheets/index.html)\n",
    "- [Integrations FiftyOne with Labeling Tools and other MLOps tools](https://docs.voxel51.com/integrations/index.html)"
   ]
  }
 ],
 "metadata": {
  "kernelspec": {
   "display_name": "Python 3 (ipykernel)",
   "language": "python",
   "name": "python3"
  },
  "language_info": {
   "codemirror_mode": {
    "name": "ipython",
    "version": 3
   },
   "file_extension": ".py",
   "mimetype": "text/x-python",
   "name": "python",
   "nbconvert_exporter": "python",
   "pygments_lexer": "ipython3",
   "version": "3.8.10"
  }
 },
 "nbformat": 4,
 "nbformat_minor": 5
}
