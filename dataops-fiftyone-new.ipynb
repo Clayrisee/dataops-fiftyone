{
 "cells": [
  {
   "cell_type": "markdown",
   "id": "b1387595-8f98-4046-9478-c33fa2ea0b1d",
   "metadata": {},
   "source": [
    "# Load Dataset"
   ]
  },
  {
   "cell_type": "code",
   "execution_count": 1,
   "id": "97468ada-6508-41e3-9c3c-b54ea8e936cf",
   "metadata": {},
   "outputs": [],
   "source": [
    "# import fo\n",
    "# fo.delete_dataset(\"example_demo_dataset\")"
   ]
  },
  {
   "cell_type": "code",
   "execution_count": 2,
   "id": "136f8552-94af-4429-a277-c0576d56822d",
   "metadata": {
    "tags": []
   },
   "outputs": [],
   "source": [
    "import fiftyone.core.dataset as focd\n",
    "import fiftyone as fo\n",
    "\n",
    "def create_fo_dataset(source_directory, name, dataset_type=fo.types.ImageDirectory):\n",
    "    dataset = fo.load_dataset(name) if focd.dataset_exists(name)\\\n",
    "        else fo.Dataset.from_dir(name=name, dataset_dir=source_directory, dataset_type=dataset_type)\n",
    "    return dataset"
   ]
  },
  {
   "cell_type": "code",
   "execution_count": 3,
   "id": "8d8e29b3-b502-4c98-91ab-db855a7a16f4",
   "metadata": {
    "tags": []
   },
   "outputs": [],
   "source": [
    "DATASET_NAME = \"example_demo_dataset\"\n",
    "DATASET_DIR = \"raw_dataset\"\n",
    "fo_dataset = create_fo_dataset(DATASET_DIR, DATASET_NAME)"
   ]
  },
  {
   "cell_type": "code",
   "execution_count": 4,
   "id": "8930b78e-be26-4adf-8c61-8cfc68ecc2b2",
   "metadata": {
    "tags": []
   },
   "outputs": [
    {
     "data": {
      "text/plain": [
       "Name:        example_demo_dataset\n",
       "Media type:  image\n",
       "Num samples: 45\n",
       "Persistent:  False\n",
       "Tags:        []\n",
       "Sample fields:\n",
       "    id:           fiftyone.core.fields.ObjectIdField\n",
       "    filepath:     fiftyone.core.fields.StringField\n",
       "    tags:         fiftyone.core.fields.ListField(fiftyone.core.fields.StringField)\n",
       "    metadata:     fiftyone.core.fields.EmbeddedDocumentField(fiftyone.core.metadata.ImageMetadata)\n",
       "    filehash:     fiftyone.core.fields.IntField\n",
       "    width:        fiftyone.core.fields.IntField\n",
       "    height:       fiftyone.core.fields.IntField\n",
       "    size_kb:      fiftyone.core.fields.IntField\n",
       "    ground_truth: fiftyone.core.fields.StringField"
      ]
     },
     "execution_count": 4,
     "metadata": {},
     "output_type": "execute_result"
    }
   ],
   "source": [
    "fo_dataset"
   ]
  },
  {
   "cell_type": "markdown",
   "id": "4855e852-49e1-4d64-8f96-fe03f85df165",
   "metadata": {},
   "source": [
    "# Run FiftyOne Session"
   ]
  },
  {
   "cell_type": "code",
   "execution_count": 5,
   "id": "22435dda-2a48-490d-a7c0-855d851833be",
   "metadata": {
    "tags": []
   },
   "outputs": [
    {
     "data": {
      "text/html": [
       "\n",
       "        <iframe\n",
       "            width=\"100%\"\n",
       "            height=\"800\"\n",
       "            src=\"http://localhost:5151/?notebook=True&subscription=5ed75ea4-ad65-406f-95cd-7a7999663d28\"\n",
       "            frameborder=\"0\"\n",
       "            allowfullscreen\n",
       "            \n",
       "        ></iframe>\n",
       "        "
      ],
      "text/plain": [
       "<IPython.lib.display.IFrame at 0x7f1810de0580>"
      ]
     },
     "metadata": {},
     "output_type": "display_data"
    }
   ],
   "source": [
    "import fiftyone as fo \n",
    "session = fo.launch_app(fo_dataset, address=\"localhost\")"
   ]
  },
  {
   "cell_type": "code",
   "execution_count": 6,
   "id": "25f9c918-171c-4a8a-9c34-1071333b59ca",
   "metadata": {
    "tags": []
   },
   "outputs": [
    {
     "data": {
      "text/plain": [
       "Dataset:          example_demo_dataset\n",
       "Media type:       image\n",
       "Num samples:      45\n",
       "Selected samples: 0\n",
       "Selected labels:  0\n",
       "Session URL:      http://localhost:5151/"
      ]
     },
     "execution_count": 6,
     "metadata": {},
     "output_type": "execute_result"
    }
   ],
   "source": [
    "session"
   ]
  },
  {
   "cell_type": "markdown",
   "id": "8fb521a2-67cf-457b-a297-8ec4e12b0cb6",
   "metadata": {},
   "source": [
    "# Compute Image MetaData"
   ]
  },
  {
   "cell_type": "code",
   "execution_count": 7,
   "id": "ad59d82c-78b2-433c-a6d8-d218aa437b0f",
   "metadata": {
    "tags": []
   },
   "outputs": [
    {
     "data": {
      "text/plain": [
       "<Sample: {\n",
       "    'id': '6539a91c9d5b48487915b1a3',\n",
       "    'media_type': 'image',\n",
       "    'filepath': '/workspaces/dataops-fiftyone/raw_dataset/20230602_191106.jpg',\n",
       "    'tags': [],\n",
       "    'metadata': <ImageMetadata: {\n",
       "        'size_bytes': 1920904,\n",
       "        'mime_type': 'image/jpeg',\n",
       "        'width': 2992,\n",
       "        'height': 2992,\n",
       "        'num_channels': 3,\n",
       "    }>,\n",
       "    'filehash': -7936277891674897675,\n",
       "    'width': 2992,\n",
       "    'height': 2992,\n",
       "    'size_kb': 1920904,\n",
       "    'ground_truth': 'not_labeled',\n",
       "}>"
      ]
     },
     "execution_count": 7,
     "metadata": {},
     "output_type": "execute_result"
    }
   ],
   "source": [
    "fo_dataset.first()"
   ]
  },
  {
   "cell_type": "code",
   "execution_count": 8,
   "id": "b4cebb18-8be2-4b74-bdf0-da4b0f1c72c7",
   "metadata": {
    "tags": []
   },
   "outputs": [],
   "source": [
    "# Compute metadata\n",
    "fo_dataset.compute_metadata()"
   ]
  },
  {
   "cell_type": "code",
   "execution_count": 9,
   "id": "57e94e3d-25fa-48b1-bab1-4f9214229896",
   "metadata": {
    "tags": []
   },
   "outputs": [],
   "source": [
    "import fiftyone.core.utils as fou\n",
    "\n",
    "# Iterate through sample to add metadata information\n",
    "for sample in fo_dataset:\n",
    "    # Compute filehash for remove duplicate filename\n",
    "    sample[\"filehash\"] = fou.compute_filehash(sample.filepath)\n",
    "    sample[\"width\"] = sample.metadata.width\n",
    "    sample[\"height\"] = sample.metadata.height\n",
    "    sample[\"size_kb\"] = sample.metadata.size_bytes\n",
    "    sample.save()"
   ]
  },
  {
   "cell_type": "code",
   "execution_count": 10,
   "id": "e7bb4a52-a7ed-4cb4-991a-d3152cc76c79",
   "metadata": {
    "tags": []
   },
   "outputs": [
    {
     "data": {
      "text/plain": [
       "<Sample: {\n",
       "    'id': '6539a91c9d5b48487915b1a3',\n",
       "    'media_type': 'image',\n",
       "    'filepath': '/workspaces/dataops-fiftyone/raw_dataset/20230602_191106.jpg',\n",
       "    'tags': [],\n",
       "    'metadata': <ImageMetadata: {\n",
       "        'size_bytes': 1920904,\n",
       "        'mime_type': 'image/jpeg',\n",
       "        'width': 2992,\n",
       "        'height': 2992,\n",
       "        'num_channels': 3,\n",
       "    }>,\n",
       "    'filehash': 6413452524206915674,\n",
       "    'width': 2992,\n",
       "    'height': 2992,\n",
       "    'size_kb': 1920904,\n",
       "    'ground_truth': 'not_labeled',\n",
       "}>"
      ]
     },
     "execution_count": 10,
     "metadata": {},
     "output_type": "execute_result"
    }
   ],
   "source": [
    "# Check first sample\n",
    "fo_dataset.first()"
   ]
  },
  {
   "cell_type": "code",
   "execution_count": null,
   "id": "8c808537-5ee1-4d72-9830-8d596b29c429",
   "metadata": {
    "tags": []
   },
   "outputs": [
    {
     "data": {
      "text/plain": []
     },
     "metadata": {},
     "output_type": "display_data"
    },
    {
     "data": {
      "text/plain": []
     },
     "metadata": {},
     "output_type": "display_data"
    },
    {
     "data": {
      "application/vnd.jupyter.widget-view+json": {
       "model_id": "0ffd74588c2646cfb19f9fb48b7ae3b6",
       "version_major": 2,
       "version_minor": 0
      },
      "text/plain": [
       "FigureWidget({\n",
       "    'data': [{'customdata': array([[0.72292137, 0.77480818],\n",
       "                                   [0.77480818, 0.82669499],\n",
       "                                   [0.82669499, 0.87858179],\n",
       "                                   [0.87858179, 0.9304686 ],\n",
       "                                   [0.9304686 , 0.98235541],\n",
       "                                   [0.98235541, 1.03424222],\n",
       "                                   [1.03424222, 1.08612902],\n",
       "                                   [1.08612902, 1.13801583],\n",
       "                                   [1.13801583, 1.18990264],\n",
       "                                   [1.18990264, 1.24178945],\n",
       "                                   [1.24178945, 1.29367625],\n",
       "                                   [1.29367625, 1.34556306],\n",
       "                                   [1.34556306, 1.39744987],\n",
       "                                   [1.39744987, 1.44933668],\n",
       "                                   [1.44933668, 1.50122348],\n",
       "                                   [1.50122348, 1.55311029],\n",
       "                                   [1.55311029, 1.6049971 ],\n",
       "                                   [1.6049971 , 1.6568839 ],\n",
       "                                   [1.6568839 , 1.70877071],\n",
       "                                   [1.70877071, 1.76065752],\n",
       "                                   [1.76065752, 1.81254433],\n",
       "                                   [1.81254433, 1.86443113],\n",
       "                                   [1.86443113, 1.91631794],\n",
       "                                   [1.91631794, 1.96820475],\n",
       "                                   [1.96820475, 2.02009156],\n",
       "                                   [2.02009156, 2.07197836],\n",
       "                                   [2.07197836, 2.12386517],\n",
       "                                   [2.12386517, 2.17575198],\n",
       "                                   [2.17575198, 2.22763879],\n",
       "                                   [2.22763879, 2.27952559],\n",
       "                                   [2.27952559, 2.3314124 ],\n",
       "                                   [2.3314124 , 2.38329921],\n",
       "                                   [2.38329921, 2.43518602],\n",
       "                                   [2.43518602, 2.48707282],\n",
       "                                   [2.48707282, 2.53895963],\n",
       "                                   [2.53895963, 2.59084644],\n",
       "                                   [2.59084644, 2.64273325],\n",
       "                                   [2.64273325, 2.69462005],\n",
       "                                   [2.69462005, 2.74650686],\n",
       "                                   [2.74650686, 2.79839367],\n",
       "                                   [2.79839367, 2.85028048],\n",
       "                                   [2.85028048, 2.90216728],\n",
       "                                   [2.90216728, 2.95405409],\n",
       "                                   [2.95405409, 3.0059409 ],\n",
       "                                   [3.0059409 , 3.05782771],\n",
       "                                   [3.05782771, 3.10971451],\n",
       "                                   [3.10971451, 3.16160132],\n",
       "                                   [3.16160132, 3.21348813],\n",
       "                                   [3.21348813, 3.26537493],\n",
       "                                   [3.26537493, 3.31726174]]),\n",
       "              'hovertemplate': ('<b>count: %{y}</b><br>value: [' ... 'omdata[1]:.2f}]<extra></extra>'),\n",
       "              'marker': {'color': '#FF6D04'},\n",
       "              'offset': 0,\n",
       "              'type': 'bar',\n",
       "              'uid': '0aa04f9a-afce-45d1-bc7d-b0c0045b382d',\n",
       "              'width': array([0.05188681, 0.05188681, 0.05188681, 0.05188681, 0.05188681, 0.05188681,\n",
       "                              0.05188681, 0.05188681, 0.05188681, 0.05188681, 0.05188681, 0.05188681,\n",
       "                              0.05188681, 0.05188681, 0.05188681, 0.05188681, 0.05188681, 0.05188681,\n",
       "                              0.05188681, 0.05188681, 0.05188681, 0.05188681, 0.05188681, 0.05188681,\n",
       "                              0.05188681, 0.05188681, 0.05188681, 0.05188681, 0.05188681, 0.05188681,\n",
       "                              0.05188681, 0.05188681, 0.05188681, 0.05188681, 0.05188681, 0.05188681,\n",
       "                              0.05188681, 0.05188681, 0.05188681, 0.05188681, 0.05188681, 0.05188681,\n",
       "                              0.05188681, 0.05188681, 0.05188681, 0.05188681, 0.05188681, 0.05188681,\n",
       "                              0.05188681, 0.05188681]),\n",
       "              'x': array([0.72292137, 0.77480818, 0.82669499, 0.87858179, 0.9304686 , 0.98235541,\n",
       "                          1.03424222, 1.08612902, 1.13801583, 1.18990264, 1.24178945, 1.29367625,\n",
       "                          1.34556306, 1.39744987, 1.44933668, 1.50122348, 1.55311029, 1.6049971 ,\n",
       "                          1.6568839 , 1.70877071, 1.76065752, 1.81254433, 1.86443113, 1.91631794,\n",
       "                          1.96820475, 2.02009156, 2.07197836, 2.12386517, 2.17575198, 2.22763879,\n",
       "                          2.27952559, 2.3314124 , 2.38329921, 2.43518602, 2.48707282, 2.53895963,\n",
       "                          2.59084644, 2.64273325, 2.69462005, 2.74650686, 2.79839367, 2.85028048,\n",
       "                          2.90216728, 2.95405409, 3.0059409 , 3.05782771, 3.10971451, 3.16160132,\n",
       "                          3.21348813, 3.26537493]),\n",
       "              'xaxis': 'x',\n",
       "              'y': array([1, 1, 1, 0, 0, 0, 0, 0, 1, 0, 1, 1, 1, 4, 2, 2, 1, 2, 0, 2, 1, 1, 1, 5,\n",
       "                          3, 4, 1, 2, 2, 0, 2, 0, 0, 0, 0, 0, 0, 0, 0, 1, 0, 0, 0, 0, 0, 0, 0, 0,\n",
       "                          1, 1]),\n",
       "              'yaxis': 'y'},\n",
       "             {'customdata': array([[2208.        , 2223.68000002],\n",
       "                                   [2223.68000002, 2239.36000004],\n",
       "                                   [2239.36000004, 2255.04000006],\n",
       "                                   [2255.04000006, 2270.72000008],\n",
       "                                   [2270.72000008, 2286.4000001 ],\n",
       "                                   [2286.4000001 , 2302.08000012],\n",
       "                                   [2302.08000012, 2317.76000014],\n",
       "                                   [2317.76000014, 2333.44000016],\n",
       "                                   [2333.44000016, 2349.12000018],\n",
       "                                   [2349.12000018, 2364.8000002 ],\n",
       "                                   [2364.8000002 , 2380.48000022],\n",
       "                                   [2380.48000022, 2396.16000024],\n",
       "                                   [2396.16000024, 2411.84000026],\n",
       "                                   [2411.84000026, 2427.52000028],\n",
       "                                   [2427.52000028, 2443.2000003 ],\n",
       "                                   [2443.2000003 , 2458.88000032],\n",
       "                                   [2458.88000032, 2474.56000034],\n",
       "                                   [2474.56000034, 2490.24000036],\n",
       "                                   [2490.24000036, 2505.92000038],\n",
       "                                   [2505.92000038, 2521.6000004 ],\n",
       "                                   [2521.6000004 , 2537.28000042],\n",
       "                                   [2537.28000042, 2552.96000044],\n",
       "                                   [2552.96000044, 2568.64000046],\n",
       "                                   [2568.64000046, 2584.32000048],\n",
       "                                   [2584.32000048, 2600.0000005 ],\n",
       "                                   [2600.0000005 , 2615.68000052],\n",
       "                                   [2615.68000052, 2631.36000054],\n",
       "                                   [2631.36000054, 2647.04000056],\n",
       "                                   [2647.04000056, 2662.72000058],\n",
       "                                   [2662.72000058, 2678.4000006 ],\n",
       "                                   [2678.4000006 , 2694.08000062],\n",
       "                                   [2694.08000062, 2709.76000064],\n",
       "                                   [2709.76000064, 2725.44000066],\n",
       "                                   [2725.44000066, 2741.12000068],\n",
       "                                   [2741.12000068, 2756.8000007 ],\n",
       "                                   [2756.8000007 , 2772.48000072],\n",
       "                                   [2772.48000072, 2788.16000074],\n",
       "                                   [2788.16000074, 2803.84000076],\n",
       "                                   [2803.84000076, 2819.52000078],\n",
       "                                   [2819.52000078, 2835.2000008 ],\n",
       "                                   [2835.2000008 , 2850.88000082],\n",
       "                                   [2850.88000082, 2866.56000084],\n",
       "                                   [2866.56000084, 2882.24000086],\n",
       "                                   [2882.24000086, 2897.92000088],\n",
       "                                   [2897.92000088, 2913.6000009 ],\n",
       "                                   [2913.6000009 , 2929.28000092],\n",
       "                                   [2929.28000092, 2944.96000094],\n",
       "                                   [2944.96000094, 2960.64000096],\n",
       "                                   [2960.64000096, 2976.32000098],\n",
       "                                   [2976.32000098, 2992.000001  ]]),\n",
       "              'hovertemplate': ('<b>count: %{y}</b><br>value: [' ... 'omdata[1]:.2f}]<extra></extra>'),\n",
       "              'marker': {'color': '#FF6D04'},\n",
       "              'offset': 0,\n",
       "              'type': 'bar',\n",
       "              'uid': 'acbd209a-1517-401b-a075-bf989f2882da',\n",
       "              'width': array([15.68000002, 15.68000002, 15.68000002, 15.68000002, 15.68000002,\n",
       "                              15.68000002, 15.68000002, 15.68000002, 15.68000002, 15.68000002,\n",
       "                              15.68000002, 15.68000002, 15.68000002, 15.68000002, 15.68000002,\n",
       "                              15.68000002, 15.68000002, 15.68000002, 15.68000002, 15.68000002,\n",
       "                              15.68000002, 15.68000002, 15.68000002, 15.68000002, 15.68000002,\n",
       "                              15.68000002, 15.68000002, 15.68000002, 15.68000002, 15.68000002,\n",
       "                              15.68000002, 15.68000002, 15.68000002, 15.68000002, 15.68000002,\n",
       "                              15.68000002, 15.68000002, 15.68000002, 15.68000002, 15.68000002,\n",
       "                              15.68000002, 15.68000002, 15.68000002, 15.68000002, 15.68000002,\n",
       "                              15.68000002, 15.68000002, 15.68000002, 15.68000002, 15.68000002]),\n",
       "              'x': array([2208.        , 2223.68000002, 2239.36000004, 2255.04000006,\n",
       "                          2270.72000008, 2286.4000001 , 2302.08000012, 2317.76000014,\n",
       "                          2333.44000016, 2349.12000018, 2364.8000002 , 2380.48000022,\n",
       "                          2396.16000024, 2411.84000026, 2427.52000028, 2443.2000003 ,\n",
       "                          2458.88000032, 2474.56000034, 2490.24000036, 2505.92000038,\n",
       "                          2521.6000004 , 2537.28000042, 2552.96000044, 2568.64000046,\n",
       "                          2584.32000048, 2600.0000005 , 2615.68000052, 2631.36000054,\n",
       "                          2647.04000056, 2662.72000058, 2678.4000006 , 2694.08000062,\n",
       "                          2709.76000064, 2725.44000066, 2741.12000068, 2756.8000007 ,\n",
       "                          2772.48000072, 2788.16000074, 2803.84000076, 2819.52000078,\n",
       "                          2835.2000008 , 2850.88000082, 2866.56000084, 2882.24000086,\n",
       "                          2897.92000088, 2913.6000009 , 2929.28000092, 2944.96000094,\n",
       "                          2960.64000096, 2976.32000098]),\n",
       "              'xaxis': 'x2',\n",
       "              'y': array([ 2,  0,  0,  0,  0,  0,  0,  0,  0,  0,  0,  0,  0,  0,  0,  0,  0,  0,\n",
       "                           0,  0,  0,  0,  0,  0,  0,  0,  0,  0,  0,  0,  0,  0,  0,  1,  0,  0,\n",
       "                           0,  0,  0,  0,  0,  0,  0,  0,  0,  0,  0,  0,  0, 42]),\n",
       "              'yaxis': 'y2'},\n",
       "             {'customdata': array([[2208.        , 2223.68000002],\n",
       "                                   [2223.68000002, 2239.36000004],\n",
       "                                   [2239.36000004, 2255.04000006],\n",
       "                                   [2255.04000006, 2270.72000008],\n",
       "                                   [2270.72000008, 2286.4000001 ],\n",
       "                                   [2286.4000001 , 2302.08000012],\n",
       "                                   [2302.08000012, 2317.76000014],\n",
       "                                   [2317.76000014, 2333.44000016],\n",
       "                                   [2333.44000016, 2349.12000018],\n",
       "                                   [2349.12000018, 2364.8000002 ],\n",
       "                                   [2364.8000002 , 2380.48000022],\n",
       "                                   [2380.48000022, 2396.16000024],\n",
       "                                   [2396.16000024, 2411.84000026],\n",
       "                                   [2411.84000026, 2427.52000028],\n",
       "                                   [2427.52000028, 2443.2000003 ],\n",
       "                                   [2443.2000003 , 2458.88000032],\n",
       "                                   [2458.88000032, 2474.56000034],\n",
       "                                   [2474.56000034, 2490.24000036],\n",
       "                                   [2490.24000036, 2505.92000038],\n",
       "                                   [2505.92000038, 2521.6000004 ],\n",
       "                                   [2521.6000004 , 2537.28000042],\n",
       "                                   [2537.28000042, 2552.96000044],\n",
       "                                   [2552.96000044, 2568.64000046],\n",
       "                                   [2568.64000046, 2584.32000048],\n",
       "                                   [2584.32000048, 2600.0000005 ],\n",
       "                                   [2600.0000005 , 2615.68000052],\n",
       "                                   [2615.68000052, 2631.36000054],\n",
       "                                   [2631.36000054, 2647.04000056],\n",
       "                                   [2647.04000056, 2662.72000058],\n",
       "                                   [2662.72000058, 2678.4000006 ],\n",
       "                                   [2678.4000006 , 2694.08000062],\n",
       "                                   [2694.08000062, 2709.76000064],\n",
       "                                   [2709.76000064, 2725.44000066],\n",
       "                                   [2725.44000066, 2741.12000068],\n",
       "                                   [2741.12000068, 2756.8000007 ],\n",
       "                                   [2756.8000007 , 2772.48000072],\n",
       "                                   [2772.48000072, 2788.16000074],\n",
       "                                   [2788.16000074, 2803.84000076],\n",
       "                                   [2803.84000076, 2819.52000078],\n",
       "                                   [2819.52000078, 2835.2000008 ],\n",
       "                                   [2835.2000008 , 2850.88000082],\n",
       "                                   [2850.88000082, 2866.56000084],\n",
       "                                   [2866.56000084, 2882.24000086],\n",
       "                                   [2882.24000086, 2897.92000088],\n",
       "                                   [2897.92000088, 2913.6000009 ],\n",
       "                                   [2913.6000009 , 2929.28000092],\n",
       "                                   [2929.28000092, 2944.96000094],\n",
       "                                   [2944.96000094, 2960.64000096],\n",
       "                                   [2960.64000096, 2976.32000098],\n",
       "                                   [2976.32000098, 2992.000001  ]]),\n",
       "              'hovertemplate': ('<b>count: %{y}</b><br>value: [' ... 'omdata[1]:.2f}]<extra></extra>'),\n",
       "              'marker': {'color': '#FF6D04'},\n",
       "              'offset': 0,\n",
       "              'type': 'bar',\n",
       "              'uid': 'b52530f2-a298-4061-a7d5-765438946fad',\n",
       "              'width': array([15.68000002, 15.68000002, 15.68000002, 15.68000002, 15.68000002,\n",
       "                              15.68000002, 15.68000002, 15.68000002, 15.68000002, 15.68000002,\n",
       "                              15.68000002, 15.68000002, 15.68000002, 15.68000002, 15.68000002,\n",
       "                              15.68000002, 15.68000002, 15.68000002, 15.68000002, 15.68000002,\n",
       "                              15.68000002, 15.68000002, 15.68000002, 15.68000002, 15.68000002,\n",
       "                              15.68000002, 15.68000002, 15.68000002, 15.68000002, 15.68000002,\n",
       "                              15.68000002, 15.68000002, 15.68000002, 15.68000002, 15.68000002,\n",
       "                              15.68000002, 15.68000002, 15.68000002, 15.68000002, 15.68000002,\n",
       "                              15.68000002, 15.68000002, 15.68000002, 15.68000002, 15.68000002,\n",
       "                              15.68000002, 15.68000002, 15.68000002, 15.68000002, 15.68000002]),\n",
       "              'x': array([2208.        , 2223.68000002, 2239.36000004, 2255.04000006,\n",
       "                          2270.72000008, 2286.4000001 , 2302.08000012, 2317.76000014,\n",
       "                          2333.44000016, 2349.12000018, 2364.8000002 , 2380.48000022,\n",
       "                          2396.16000024, 2411.84000026, 2427.52000028, 2443.2000003 ,\n",
       "                          2458.88000032, 2474.56000034, 2490.24000036, 2505.92000038,\n",
       "                          2521.6000004 , 2537.28000042, 2552.96000044, 2568.64000046,\n",
       "                          2584.32000048, 2600.0000005 , 2615.68000052, 2631.36000054,\n",
       "                          2647.04000056, 2662.72000058, 2678.4000006 , 2694.08000062,\n",
       "                          2709.76000064, 2725.44000066, 2741.12000068, 2756.8000007 ,\n",
       "                          2772.48000072, 2788.16000074, 2803.84000076, 2819.52000078,\n",
       "                          2835.2000008 , 2850.88000082, 2866.56000084, 2882.24000086,\n",
       "                          2897.92000088, 2913.6000009 , 2929.28000092, 2944.96000094,\n",
       "                          2960.64000096, 2976.32000098]),\n",
       "              'xaxis': 'x3',\n",
       "              'y': array([ 2,  0,  0,  0,  0,  0,  0,  0,  0,  0,  0,  0,  0,  0,  0,  0,  0,  0,\n",
       "                           0,  0,  0,  0,  0,  0,  0,  0,  0,  0,  0,  0,  0,  0,  0,  1,  0,  0,\n",
       "                           0,  0,  0,  0,  0,  0,  0,  0,  0,  0,  0,  0,  0, 42]),\n",
       "              'yaxis': 'y3'}],\n",
       "    'layout': {'margin': {'b': 0, 'l': 0, 'r': 0, 't': 30},\n",
       "               'showlegend': False,\n",
       "               'template': '...',\n",
       "               'xaxis': {'anchor': 'y', 'domain': [0.0, 0.2888888888888889], 'title': {'text': 'image size (MB)'}},\n",
       "               'xaxis2': {'anchor': 'y2', 'domain': [0.35555555555555557, 0.6444444444444445], 'title': {'text': 'W'}},\n",
       "               'xaxis3': {'anchor': 'y3', 'domain': [0.7111111111111111, 1.0], 'title': {'text': 'H'}},\n",
       "               'yaxis': {'anchor': 'x', 'domain': [0.0, 1.0], 'title': {'text': 'count'}},\n",
       "               'yaxis2': {'anchor': 'x2', 'domain': [0.0, 1.0], 'title': {'text': 'count'}},\n",
       "               'yaxis3': {'anchor': 'x3', 'domain': [0.0, 1.0], 'title': {'text': 'count'}}}\n",
       "})"
      ]
     },
     "metadata": {},
     "output_type": "display_data"
    }
   ],
   "source": [
    "from fiftyone import ViewField as F\n",
    "\n",
    "plot1 = fo.NumericalHistogram(F(\"metadata.size_bytes\") / (1024*1024), bins=50, xlabel=\"image size (MB)\")\n",
    "plot2 = fo.NumericalHistogram(F(\"metadata.width\"), bins=50, xlabel=\"W\")\n",
    "plot3 = fo.NumericalHistogram(F(\"metadata.height\"), bins=50, xlabel=\"H\")\n",
    "plot = fo.ViewGrid([plot1, plot2, plot3], init_view=fo_dataset)\n",
    "plot.show()"
   ]
  },
  {
   "cell_type": "markdown",
   "id": "9278ae88-e998-4cb9-af4e-de5746f0ed43",
   "metadata": {},
   "source": [
    "# Remove Duplicate File"
   ]
  },
  {
   "cell_type": "code",
   "execution_count": null,
   "id": "3ed0bbba-ca8b-413d-a9e9-48e9b96c242b",
   "metadata": {},
   "outputs": [],
   "source": [
    "from collections import Counter\n",
    "from fiftyone import ViewField as F\n",
    "\n",
    "def find_duplicate_file_image(fo_dataset):\n",
    "    filehash_count = Counter(sample.filehash for sample in fo_dataset)\n",
    "    dup_filehashes = [k for k, v in filehash_count.items() if v > 1]\n",
    "    dup_view = (fo_dataset\n",
    "    # Extract samples with duplicate file hashes\n",
    "    .match(F(\"filehash\").is_in(dup_filehashes))\n",
    "    # Sort by file hash so duplicates will be adjacent\n",
    "    .sort_by(\"filehash\")\n",
    "    )\n",
    "    print(\"Number of images that have a duplicate: %d\" % len(dup_view))\n",
    "    print(\"Number of duplicates: %d\" % (len(dup_view) - len(dup_filehashes)))\n",
    "    return dup_view"
   ]
  },
  {
   "cell_type": "code",
   "execution_count": null,
   "id": "88601074-55e2-42e7-a3ac-177fd86968ba",
   "metadata": {
    "tags": []
   },
   "outputs": [
    {
     "name": "stdout",
     "output_type": "stream",
     "text": [
      "Number of images that have a duplicate: 0\n",
      "Number of duplicates: 0\n"
     ]
    }
   ],
   "source": [
    "duplicate_view = find_duplicate_file_image(fo_dataset)"
   ]
  },
  {
   "cell_type": "code",
   "execution_count": null,
   "id": "a3635541-3c0f-4a43-a889-61ae1d65b66e",
   "metadata": {
    "tags": []
   },
   "outputs": [
    {
     "name": "stdout",
     "output_type": "stream",
     "text": [
      "Length of dataset before delete: 45\n",
      "Length of dataset after delete: 45\n",
      "Number of unique file hashes: 45\n"
     ]
    }
   ],
   "source": [
    "# Delete duplicate view\n",
    "\n",
    "print(\"Length of dataset before delete: %d\" % len(fo_dataset))\n",
    "temp_dup_filehash = set()\n",
    "for sample in duplicate_view:\n",
    "    if sample.filehash not in temp_dup_filehash:\n",
    "        temp_dup_filehash.add(sample.filehash)\n",
    "        continue\n",
    "    del fo_dataset[sample.id]\n",
    "\n",
    "print(\"Length of dataset after delete: %d\" % len(fo_dataset))\n",
    "# Verify that the dataset no longer contains any duplicates\n",
    "print(\"Number of unique file hashes: %d\" % len({s.filehash for s in fo_dataset}))"
   ]
  },
  {
   "cell_type": "markdown",
   "id": "2ba30419-e4d1-4373-8427-70e2b722e9c8",
   "metadata": {},
   "source": [
    "# Create Custom Labels"
   ]
  },
  {
   "cell_type": "code",
   "execution_count": null,
   "id": "f043500d-2540-430a-bdf1-6f80890639e9",
   "metadata": {
    "tags": []
   },
   "outputs": [],
   "source": [
    "label_list = list()\n",
    "for sample in fo_dataset:\n",
    "    sample[\"ground_truth\"] = \"not_labeled\"\n",
    "    label_list.append(\"not_labeled\")\n",
    "    sample.save()"
   ]
  },
  {
   "cell_type": "markdown",
   "id": "9c980777-8a7d-434b-b379-7989b669a33f",
   "metadata": {},
   "source": [
    "# Compute Embedding with Pre-Trained Model FiftyOne"
   ]
  },
  {
   "cell_type": "code",
   "execution_count": null,
   "id": "54b68059-0759-44c3-871e-e9d6e04a4c18",
   "metadata": {},
   "outputs": [
    {
     "name": "stderr",
     "output_type": "stream",
     "text": [
      "/root/.local/lib/python3.8/site-packages/torch/cuda/__init__.py:138: UserWarning:\n",
      "\n",
      "CUDA initialization: The NVIDIA driver on your system is too old (found version 11080). Please update your GPU driver by downloading and installing a new version from the URL: http://www.nvidia.com/Download/index.aspx Alternatively, go to: https://pytorch.org to install a PyTorch version that has been compiled with your version of the CUDA driver. (Triggered internally at ../c10/cuda/CUDAFunctions.cpp:108.)\n",
      "\n"
     ]
    }
   ],
   "source": [
    "import fiftyone.zoo as foz\n",
    "model_name = \"resnet50-imagenet-torch\"\n",
    "model = foz.load_zoo_model(model_name)"
   ]
  },
  {
   "cell_type": "markdown",
   "id": "6d9eb04b-ce21-488b-a4e0-460c7eb8ef1c",
   "metadata": {
    "tags": []
   },
   "source": [
    "# Distribution Feature Embedding"
   ]
  },
  {
   "cell_type": "code",
   "execution_count": null,
   "id": "450986f3-a431-4619-b2ba-6d6ebcd108ad",
   "metadata": {},
   "outputs": [
    {
     "name": "stdout",
     "output_type": "stream",
     "text": [
      "Model does not support batching\n"
     ]
    }
   ],
   "source": [
    "fo_dataset.compute_embeddings(model=model, num_workers=0)"
   ]
  },
  {
   "cell_type": "markdown",
   "id": "f03b1a92-8c7d-47e6-b86c-b9b2e1f37201",
   "metadata": {},
   "source": [
    "# Distribution Uniqueness Feature Embedding"
   ]
  },
  {
   "cell_type": "code",
   "execution_count": null,
   "id": "a1e1d2d7-d61a-46c8-99fd-dc43132717fd",
   "metadata": {},
   "outputs": [],
   "source": []
  },
  {
   "cell_type": "markdown",
   "id": "0f7bcfd7-ca1d-4290-83de-ef384c7e1b6b",
   "metadata": {},
   "source": [
    "# Split Dataset with Uniqueness Embedding"
   ]
  },
  {
   "cell_type": "code",
   "execution_count": null,
   "id": "07a6febc-3c7a-45fb-9e63-ca74f4f0518f",
   "metadata": {},
   "outputs": [],
   "source": []
  },
  {
   "cell_type": "markdown",
   "id": "85ab8624-cb66-4e63-9ff0-02c3402c9da3",
   "metadata": {},
   "source": [
    "# Export FiftyOne Dataset"
   ]
  },
  {
   "cell_type": "code",
   "execution_count": null,
   "id": "b840826e-439f-406b-8d15-e7f657c801bb",
   "metadata": {},
   "outputs": [],
   "source": []
  },
  {
   "cell_type": "markdown",
   "id": "7075b175-e81c-4c4a-8f04-85978ecbd331",
   "metadata": {},
   "source": [
    "# What's Next?"
   ]
  },
  {
   "cell_type": "markdown",
   "id": "1a7165d4-2b2c-43d6-b9fd-a895203b2482",
   "metadata": {},
   "source": []
  }
 ],
 "metadata": {
  "kernelspec": {
   "display_name": "Python 3 (ipykernel)",
   "language": "python",
   "name": "python3"
  },
  "language_info": {
   "codemirror_mode": {
    "name": "ipython",
    "version": 3
   },
   "file_extension": ".py",
   "mimetype": "text/x-python",
   "name": "python",
   "nbconvert_exporter": "python",
   "pygments_lexer": "ipython3",
   "version": "3.8.10"
  }
 },
 "nbformat": 4,
 "nbformat_minor": 5
}
